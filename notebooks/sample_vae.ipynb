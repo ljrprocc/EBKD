{
 "cells": [
  {
   "cell_type": "code",
   "execution_count": 1,
   "id": "7a7bc728",
   "metadata": {},
   "outputs": [],
   "source": [
    "import torch\n",
    "import sys\n",
    "sys.path.append('..')\n",
    "import yaml\n",
    "from helper.util_gen import add_dict\n",
    "from helper.gen_loops import sample_vae\n",
    "from models import model_dict"
   ]
  },
  {
   "cell_type": "code",
   "execution_count": 2,
   "id": "4a57c9a3",
   "metadata": {},
   "outputs": [
    {
     "name": "stderr",
     "output_type": "stream",
     "text": [
      "<ipython-input-2-25359ba2c61c>:9: YAMLLoadWarning: calling yaml.load() without Loader=... is deprecated, as the default Loader is unsafe. Please read https://msg.pyyaml.org/load for full details.\n",
      "  opt_m = yaml.load(f)\n"
     ]
    }
   ],
   "source": [
    "class Option:\n",
    "    def __init__(self):\n",
    "        self.config = '/data/lijingru/EBKD/configs/vae.yaml'\n",
    "        self.n_cls = 100\n",
    "        self.save_folder = '/data/lijingru/EBKD/save/student_model/cifar100_lr_0.005_decay_0.0_ndf_256_trial_3_lc/'\n",
    "\n",
    "opt = Option()\n",
    "with open(opt.config, 'r') as f:\n",
    "    opt_m = yaml.load(f)\n",
    "    \n",
    "    opt_m = add_dict(opt, opt_m)"
   ]
  },
  {
   "cell_type": "code",
   "execution_count": 3,
   "id": "d14489e7",
   "metadata": {},
   "outputs": [
    {
     "data": {
      "text/plain": [
       "<All keys matched successfully>"
      ]
     },
     "execution_count": 3,
     "metadata": {},
     "output_type": "execute_result"
    }
   ],
   "source": [
    "# Setup vae model\n",
    "device = 'cuda:0'\n",
    "model = model_dict['cvae'](**opt.model_params).to(device)\n",
    "ckpt_path = '{}/res_epoch_200.pts'.format(opt.save_folder)\n",
    "\n",
    "model.load_state_dict(torch.load(ckpt_path, map_location=device)['model_state_dict'])"
   ]
  },
  {
   "cell_type": "code",
   "execution_count": 4,
   "id": "5cf87620",
   "metadata": {},
   "outputs": [
    {
     "name": "stderr",
     "output_type": "stream",
     "text": [
      "100%|██████████| 100/100 [00:10<00:00,  9.21it/s]\n"
     ]
    }
   ],
   "source": [
    "opt.device = device\n",
    "sample_vae(model, opt, n_samples=10000)"
   ]
  },
  {
   "cell_type": "code",
   "execution_count": null,
   "id": "8ff7c044",
   "metadata": {},
   "outputs": [],
   "source": []
  }
 ],
 "metadata": {
  "kernelspec": {
   "display_name": "Python 3",
   "language": "python",
   "name": "python3"
  },
  "language_info": {
   "codemirror_mode": {
    "name": "ipython",
    "version": 3
   },
   "file_extension": ".py",
   "mimetype": "text/x-python",
   "name": "python",
   "nbconvert_exporter": "python",
   "pygments_lexer": "ipython3",
   "version": "3.8.8"
  }
 },
 "nbformat": 4,
 "nbformat_minor": 5
}
