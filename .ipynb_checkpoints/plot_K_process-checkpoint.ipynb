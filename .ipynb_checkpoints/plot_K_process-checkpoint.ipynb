{
 "cells": [
  {
   "cell_type": "code",
   "execution_count": 3,
   "id": "3589dd8c",
   "metadata": {},
   "outputs": [],
   "source": [
    "import seaborn as sns\n",
    "import torch\n",
    "import numpy as np"
   ]
  },
  {
   "cell_type": "markdown",
   "id": "1ca6fbaa",
   "metadata": {},
   "source": [
    "### Choose the root of KD\n",
    "balabala"
   ]
  },
  {
   "cell_type": "code",
   "execution_count": 4,
   "id": "9fb33af1",
   "metadata": {},
   "outputs": [
    {
     "name": "stdout",
     "output_type": "stream",
     "text": [
      "S:resnet8x4_T:resnet32x4_cifar100_kd_r:0.4_a:0.6_b:0.0_0_K_10\r\n",
      "S:resnet8x4_T:resnet32x4_cifar100_kd_r:0.4_a:0.6_b:0.0_0_K_1_xy\r\n",
      "S:resnet8x4_T:resnet32x4_cifar100_kd_r:0.4_a:0.6_b:0.0_0_K_3_xy\r\n",
      "S:resnet8x4_T:resnet32x4_cifar100_kd_r:0.4_a:0.6_b:0.0_0_k_5_st_0\r\n",
      "S:resnet8x4_T:resnet32x4_cifar100_kd_r:0.4_a:0.6_b:0.0_0_k_5_st_15\r\n",
      "S:resnet8x4_T:resnet32x4_cifar100_kd_r:0.4_a:0.6_b:0.0_0_K_7_xy\r\n",
      "S:resnet8x4_T:resnet32x4_cifar100_kd_r:0.4_a:0.6_b:0.0_0_nolc_xy\r\n",
      "S:resnet8x4_T:resnet32x4_cifar100_kd_r:0.4_a:0.6_b:0.0_1_K_10\r\n",
      "S:resnet8x4_T:resnet32x4_cifar100_kd_r:0.4_a:0.6_b:0.0_1_K_1_xy\r\n",
      "S:resnet8x4_T:resnet32x4_cifar100_kd_r:0.4_a:0.6_b:0.0_1_K_3_xy\r\n",
      "S:resnet8x4_T:resnet32x4_cifar100_kd_r:0.4_a:0.6_b:0.0_1_k_5_st_0\r\n",
      "S:resnet8x4_T:resnet32x4_cifar100_kd_r:0.4_a:0.6_b:0.0_1_k_5_st_15\r\n",
      "S:resnet8x4_T:resnet32x4_cifar100_kd_r:0.4_a:0.6_b:0.0_1_K_7_xy\r\n",
      "S:resnet8x4_T:resnet32x4_cifar100_kd_r:0.4_a:0.6_b:0.0_1_nolc_xy\r\n",
      "S:resnet8x4_T:resnet32x4_cifar100_kd_r:0.4_a:0.6_b:0.0_2_K_10\r\n",
      "S:resnet8x4_T:resnet32x4_cifar100_kd_r:0.4_a:0.6_b:0.0_2_K_1_xy\r\n",
      "S:resnet8x4_T:resnet32x4_cifar100_kd_r:0.4_a:0.6_b:0.0_2_K_3_xy\r\n",
      "S:resnet8x4_T:resnet32x4_cifar100_kd_r:0.4_a:0.6_b:0.0_2_k_5_st_0\r\n",
      "S:resnet8x4_T:resnet32x4_cifar100_kd_r:0.4_a:0.6_b:0.0_2_k_5_st_15\r\n",
      "S:resnet8x4_T:resnet32x4_cifar100_kd_r:0.4_a:0.6_b:0.0_2_K_7_xy\r\n",
      "S:resnet8x4_T:resnet32x4_cifar100_kd_r:0.4_a:0.6_b:0.0_2_nolc_xy\r\n",
      "S:resnet8x4_T:resnet32x4_cifar100_kd_r:0.4_a:0.6_b:0.0_3_K_10\r\n",
      "S:resnet8x4_T:resnet32x4_cifar100_kd_r:0.4_a:0.6_b:0.0_3_K_1_xy\r\n",
      "S:resnet8x4_T:resnet32x4_cifar100_kd_r:0.4_a:0.6_b:0.0_3_K_3_xy\r\n",
      "S:resnet8x4_T:resnet32x4_cifar100_kd_r:0.4_a:0.6_b:0.0_3_k_5_st_0\r\n",
      "S:resnet8x4_T:resnet32x4_cifar100_kd_r:0.4_a:0.6_b:0.0_3_k_5_st_15\r\n",
      "S:resnet8x4_T:resnet32x4_cifar100_kd_r:0.4_a:0.6_b:0.0_3_K_7_xy\r\n",
      "S:resnet8x4_T:resnet32x4_cifar100_kd_r:0.4_a:0.6_b:0.0_3_nolc_xy\r\n",
      "S:resnet8x4_T:resnet32x4_cifar100_kd_r:0.4_a:0.6_b:0.0_4_K_10\r\n",
      "S:resnet8x4_T:resnet32x4_cifar100_kd_r:0.4_a:0.6_b:0.0_4_K_1_xy\r\n",
      "S:resnet8x4_T:resnet32x4_cifar100_kd_r:0.4_a:0.6_b:0.0_4_K_3_xy\r\n",
      "S:resnet8x4_T:resnet32x4_cifar100_kd_r:0.4_a:0.6_b:0.0_4_k_5_st_0\r\n",
      "S:resnet8x4_T:resnet32x4_cifar100_kd_r:0.4_a:0.6_b:0.0_4_k_5_st_15\r\n",
      "S:resnet8x4_T:resnet32x4_cifar100_kd_r:0.4_a:0.6_b:0.0_4_K_7_xy\r\n",
      "S:resnet8x4_T:resnet32x4_cifar100_kd_r:0.4_a:0.6_b:0.0_4_nolc_xy\r\n",
      "S:resnet8x4_T:resnet32x4_cifar100_kd_r:0.4_a:0.6_b:0.0_5_K_10\r\n",
      "S:resnet8x4_T:resnet32x4_cifar100_kd_r:0.4_a:0.6_b:0.0_5_K_1_xy\r\n",
      "S:resnet8x4_T:resnet32x4_cifar100_kd_r:0.4_a:0.6_b:0.0_5_K_3_xy\r\n",
      "S:resnet8x4_T:resnet32x4_cifar100_kd_r:0.4_a:0.6_b:0.0_5_k_5_st_0\r\n",
      "S:resnet8x4_T:resnet32x4_cifar100_kd_r:0.4_a:0.6_b:0.0_5_k_5_st_15\r\n",
      "S:resnet8x4_T:resnet32x4_cifar100_kd_r:0.4_a:0.6_b:0.0_5_K_7_xy\r\n",
      "S:resnet8x4_T:resnet32x4_cifar100_kd_r:0.4_a:0.6_b:0.0_5_nolc_xy\r\n",
      "S:resnet8x4_T:resnet32x4_cifar100_kd_r:0.4_a:0.6_b:0.0_6_K_10\r\n",
      "S:resnet8x4_T:resnet32x4_cifar100_kd_r:0.4_a:0.6_b:0.0_6_K_1_xy\r\n",
      "S:resnet8x4_T:resnet32x4_cifar100_kd_r:0.4_a:0.6_b:0.0_6_K_3_xy\r\n",
      "S:resnet8x4_T:resnet32x4_cifar100_kd_r:0.4_a:0.6_b:0.0_6_k_5_st_0\r\n",
      "S:resnet8x4_T:resnet32x4_cifar100_kd_r:0.4_a:0.6_b:0.0_6_k_5_st_15\r\n",
      "S:resnet8x4_T:resnet32x4_cifar100_kd_r:0.4_a:0.6_b:0.0_6_K_7_xy\r\n",
      "S:resnet8x4_T:resnet32x4_cifar100_kd_r:0.4_a:0.6_b:0.0_6_nolc_xy\r\n",
      "S:resnet8x4_T:resnet32x4_cifar100_kd_r:0.4_a:0.6_b:0.0_7_K_10\r\n",
      "S:resnet8x4_T:resnet32x4_cifar100_kd_r:0.4_a:0.6_b:0.0_7_K_1_xy\r\n",
      "S:resnet8x4_T:resnet32x4_cifar100_kd_r:0.4_a:0.6_b:0.0_7_K_3_xy\r\n",
      "S:resnet8x4_T:resnet32x4_cifar100_kd_r:0.4_a:0.6_b:0.0_7_k_5_st_0\r\n",
      "S:resnet8x4_T:resnet32x4_cifar100_kd_r:0.4_a:0.6_b:0.0_7_k_5_st_15\r\n",
      "S:resnet8x4_T:resnet32x4_cifar100_kd_r:0.4_a:0.6_b:0.0_7_K_7_xy\r\n",
      "S:resnet8x4_T:resnet32x4_cifar100_kd_r:0.4_a:0.6_b:0.0_7_nolc_xy\r\n",
      "S:resnet8x4_T:resnet32x4_cifar100_kd_r:0.4_a:0.6_b:0.0_8_K_10\r\n",
      "S:resnet8x4_T:resnet32x4_cifar100_kd_r:0.4_a:0.6_b:0.0_8_K_1_xy\r\n",
      "S:resnet8x4_T:resnet32x4_cifar100_kd_r:0.4_a:0.6_b:0.0_8_K_3_xy\r\n",
      "S:resnet8x4_T:resnet32x4_cifar100_kd_r:0.4_a:0.6_b:0.0_8_k_5_st_0\r\n",
      "S:resnet8x4_T:resnet32x4_cifar100_kd_r:0.4_a:0.6_b:0.0_8_k_5_st_15\r\n",
      "S:resnet8x4_T:resnet32x4_cifar100_kd_r:0.4_a:0.6_b:0.0_8_K_7_xy\r\n",
      "S:resnet8x4_T:resnet32x4_cifar100_kd_r:0.4_a:0.6_b:0.0_8_nolc_xy\r\n",
      "S:resnet8x4_T:resnet32x4_cifar100_kd_r:0.4_a:0.6_b:0.0_9_K_10\r\n",
      "S:resnet8x4_T:resnet32x4_cifar100_kd_r:0.4_a:0.6_b:0.0_9_K_1_xy\r\n",
      "S:resnet8x4_T:resnet32x4_cifar100_kd_r:0.4_a:0.6_b:0.0_9_K_3_xy\r\n",
      "S:resnet8x4_T:resnet32x4_cifar100_kd_r:0.4_a:0.6_b:0.0_9_k_5_st_0\r\n",
      "S:resnet8x4_T:resnet32x4_cifar100_kd_r:0.4_a:0.6_b:0.0_9_k_5_st_15\r\n",
      "S:resnet8x4_T:resnet32x4_cifar100_kd_r:0.4_a:0.6_b:0.0_9_K_7_xy\r\n",
      "S:resnet8x4_T:resnet32x4_cifar100_kd_r:0.4_a:0.6_b:0.0_9_nolc_xy\r\n"
     ]
    }
   ],
   "source": [
    "!ls save/student_datafree_model/"
   ]
  },
  {
   "cell_type": "code",
   "execution_count": 5,
   "id": "22d3d36a",
   "metadata": {},
   "outputs": [
    {
     "name": "stdout",
     "output_type": "stream",
     "text": [
      "T:resnet32x4, S:resnet8x4, logo:K_1_xy,  acc:48.71399841308594 +- 0.5135610758012907\n",
      "T:resnet32x4, S:resnet8x4, logo:K_3_xy,  acc:48.71699829101563 +- 0.3469592179422609\n",
      "T:resnet32x4, S:resnet8x4, logo:K_7_xy,  acc:49.29799880981445 +- 0.3821987339773111\n",
      "T:resnet32x4, S:resnet8x4, logo:K_10,  acc:49.81899909973144 +- 0.4344984569475255\n",
      "T:resnet32x4, S:resnet8x4, logo:k_5_st_0,  acc:48.642999267578126 +- 0.30551800184638117\n",
      "T:resnet32x4, S:resnet8x4, logo:k_5_st_15,  acc:48.96399841308594 +- 0.4320465303026957\n",
      "T:resnet32x4, S:resnet8x4, logo:nolc_xy,  acc:47.64499931335449 +- 0.4046543733817168\n"
     ]
    }
   ],
   "source": [
    "logos = ['K_1_xy', 'K_3_xy', 'K_7_xy', 'K_10', 'k_5_st_0', 'k_5_st_15', 'nolc_xy']\n",
    "for logo in logos:\n",
    "    scores = []\n",
    "    for i in range(10):\n",
    "        pths = torch.load('save/student_datafree_model/S:resnet8x4_T:resnet32x4_cifar100_kd_r:0.4_a:0.6_b:0.0_{}_{}/resnet8x4_best.pth'.format(i, logo))\n",
    "        acc = pths['best_acc']\n",
    "        scores.append(acc.item())\n",
    "    scores = np.asarray(scores)\n",
    "    print('T:resnet32x4, S:resnet8x4, logo:{},  acc:{} +- {}'.format(logo, np.mean(scores), np.var(scores) ** 0.5))"
   ]
  },
  {
   "cell_type": "code",
   "execution_count": null,
   "id": "bdb03c0d",
   "metadata": {},
   "outputs": [],
   "source": []
  }
 ],
 "metadata": {
  "kernelspec": {
   "display_name": "Python 3",
   "language": "python",
   "name": "python3"
  },
  "language_info": {
   "codemirror_mode": {
    "name": "ipython",
    "version": 3
   },
   "file_extension": ".py",
   "mimetype": "text/x-python",
   "name": "python",
   "nbconvert_exporter": "python",
   "pygments_lexer": "ipython3",
   "version": "3.8.8"
  }
 },
 "nbformat": 4,
 "nbformat_minor": 5
}
