{
 "cells": [
  {
   "cell_type": "code",
   "execution_count": 1,
   "id": "8fba2132",
   "metadata": {},
   "outputs": [],
   "source": [
    "import numpy as np\n",
    "import torch\n",
    "import cv2\n",
    "import seaborn as sns\n",
    "\n",
    "from models import model_dict\n",
    "from helper.util_gen import get_sample_q"
   ]
  },
  {
   "cell_type": "markdown",
   "id": "dee91fd6",
   "metadata": {},
   "source": [
    "# Get model and replay buffer"
   ]
  },
  {
   "cell_type": "code",
   "execution_count": 2,
   "id": "0b1c35b8",
   "metadata": {},
   "outputs": [
    {
     "name": "stdout",
     "output_type": "stream",
     "text": [
      "img_samples  res_epoch_92.pts\r\n"
     ]
    }
   ],
   "source": [
    "!ls save/student_model/resnet28x10_T:resnet32x4_S:resnet8x4_cifar100_lr_1e-05_decay_0.0_buffer_size_10000_lpx_1.0_lpxy_0.0_energy_mode_mcmc_step_size_1.0_trial_1_st_random_cls_mode_cls_k_10/"
   ]
  },
  {
   "cell_type": "code",
   "execution_count": 3,
   "id": "6e0a9b70",
   "metadata": {},
   "outputs": [
    {
     "name": "stdout",
     "output_type": "stream",
     "text": [
      "Tue Aug 17 19:39:16 2021       \r\n",
      "+-----------------------------------------------------------------------------+\r\n",
      "| NVIDIA-SMI 460.67       Driver Version: 460.67       CUDA Version: 11.2     |\r\n",
      "|-------------------------------+----------------------+----------------------+\r\n",
      "| GPU  Name        Persistence-M| Bus-Id        Disp.A | Volatile Uncorr. ECC |\r\n",
      "| Fan  Temp  Perf  Pwr:Usage/Cap|         Memory-Usage | GPU-Util  Compute M. |\r\n",
      "|                               |                      |               MIG M. |\r\n",
      "|===============================+======================+======================|\r\n",
      "|   0  GeForce RTX 3090    Off  | 00000000:04:00.0 Off |                  N/A |\r\n",
      "| 71%   64C    P2   336W / 350W |  18819MiB / 24268MiB |    100%      Default |\r\n",
      "|                               |                      |                  N/A |\r\n",
      "+-------------------------------+----------------------+----------------------+\r\n",
      "|   1  GeForce RTX 3090    Off  | 00000000:05:00.0 Off |                  N/A |\r\n",
      "| 30%   33C    P8    17W / 350W |      0MiB / 24268MiB |      0%      Default |\r\n",
      "|                               |                      |                  N/A |\r\n",
      "+-------------------------------+----------------------+----------------------+\r\n",
      "|   2  GeForce RTX 3090    Off  | 00000000:08:00.0 Off |                  N/A |\r\n",
      "| 30%   31C    P8    17W / 350W |      0MiB / 24268MiB |      0%      Default |\r\n",
      "|                               |                      |                  N/A |\r\n",
      "+-------------------------------+----------------------+----------------------+\r\n",
      "|   3  GeForce RTX 3090    Off  | 00000000:09:00.0 Off |                  N/A |\r\n",
      "| 63%   57C    P2   193W / 350W |  13179MiB / 24268MiB |     87%      Default |\r\n",
      "|                               |                      |                  N/A |\r\n",
      "+-------------------------------+----------------------+----------------------+\r\n",
      "|   4  GeForce RTX 3090    Off  | 00000000:84:00.0 Off |                  N/A |\r\n",
      "| 60%   55C    P2   158W / 350W |  13179MiB / 24268MiB |     93%      Default |\r\n",
      "|                               |                      |                  N/A |\r\n",
      "+-------------------------------+----------------------+----------------------+\r\n",
      "|   5  GeForce RTX 3090    Off  | 00000000:85:00.0 Off |                  N/A |\r\n",
      "| 70%   68C    P2   336W / 350W |  23933MiB / 24268MiB |     89%      Default |\r\n",
      "|                               |                      |                  N/A |\r\n",
      "+-------------------------------+----------------------+----------------------+\r\n",
      "|   6  GeForce RTX 3090    Off  | 00000000:89:00.0 Off |                  N/A |\r\n",
      "| 60%   61C    P2   323W / 350W |  23933MiB / 24268MiB |     88%      Default |\r\n",
      "|                               |                      |                  N/A |\r\n",
      "+-------------------------------+----------------------+----------------------+\r\n",
      "                                                                               \r\n",
      "+-----------------------------------------------------------------------------+\r\n",
      "| Processes:                                                                  |\r\n",
      "|  GPU   GI   CI        PID   Type   Process name                  GPU Memory |\r\n",
      "|        ID   ID                                                   Usage      |\r\n",
      "|=============================================================================|\r\n",
      "|    0   N/A  N/A     17222      C   python                          18817MiB |\r\n",
      "|    3   N/A  N/A     49537      C   ...onda3/envs/amp/bin/python    13177MiB |\r\n",
      "|    4   N/A  N/A     49538      C   ...onda3/envs/amp/bin/python    13177MiB |\r\n",
      "|    5   N/A  N/A     42666      C   ...heng/anaconda3/bin/python    23931MiB |\r\n",
      "|    6   N/A  N/A     42667      C   ...heng/anaconda3/bin/python    23931MiB |\r\n",
      "+-----------------------------------------------------------------------------+\r\n"
     ]
    }
   ],
   "source": [
    "!nvidia-smi"
   ]
  },
  {
   "cell_type": "code",
   "execution_count": 4,
   "id": "e7897158",
   "metadata": {},
   "outputs": [
    {
     "name": "stdout",
     "output_type": "stream",
     "text": [
      "| Wide-Resnet 28x10\n"
     ]
    },
    {
     "data": {
      "text/plain": [
       "<matplotlib.image.AxesImage at 0x7fc2bcee9040>"
      ]
     },
     "execution_count": 4,
     "metadata": {},
     "output_type": "execute_result"
    },
    {
     "data": {
      "image/png": "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\n",
      "text/plain": [
       "<Figure size 432x288 with 1 Axes>"
      ]
     },
     "metadata": {
      "needs_background": "light"
     },
     "output_type": "display_data"
    }
   ],
   "source": [
    "import matplotlib.pyplot as plt\n",
    "import torchvision.utils as vutils\n",
    "device = \"cuda:1\"\n",
    "model = model_dict['resnet28x10'](depth=28, widen_factor=10, num_classes=100, norm='none')\n",
    "model = model_dict['Gen'](model, n_cls=100)\n",
    "model = model.to(device)\n",
    "save_path = '/data/lijingru/EBKD/save/student_model/resnet28x10_T:resnet32x4_S:resnet8x4_cifar100_lr_1e-05_decay_0.0_buffer_size_10000_lpx_1.0_lpxy_0.0_energy_mode_mcmc_step_size_1.0_trial_1_st_random_cls_mode_cls_k_10/'\n",
    "ckpt_dict = torch.load(save_path + 'res_epoch_92.pts', map_location=device)\n",
    "model.load_state_dict(ckpt_dict[\"model_state_dict\"])\n",
    "replay_buffer = ckpt_dict[\"replay_buffer\"]\n",
    "sqrt = lambda x: int(torch.sqrt(torch.tensor([x])))\n",
    "plot = lambda x: vutils.make_grid(torch.clamp(x, -1, 1), normalize=True, nrow=sqrt(x.size(0)))\n",
    "buffer_size = len(replay_buffer)\n",
    "inds = torch.randint(0, buffer_size, (25,))\n",
    "sampled = replay_buffer[inds]\n",
    "imgs = plot(sampled).cpu()\n",
    "img = np.transpose(imgs, (1,2,0))\n",
    "plt.figure(10)\n",
    "plt.imshow(img)"
   ]
  },
  {
   "cell_type": "markdown",
   "id": "4a8204cf",
   "metadata": {},
   "source": [
    "### Calculate Inception Score and Options"
   ]
  },
  {
   "cell_type": "code",
   "execution_count": 5,
   "id": "0027990d",
   "metadata": {},
   "outputs": [
    {
     "data": {
      "text/plain": [
       "100.0"
      ]
     },
     "execution_count": 5,
     "metadata": {},
     "output_type": "execute_result"
    }
   ],
   "source": [
    "import os\n",
    "# save_path = '/data/lijingru/EBKD/save/student_model/resnet8x4_cifar100_lr_0.0001_decay_0.0_buffer_size_40000_lpx_0.0_lpxy_1.0_energy_mode_mcmc_step_size_5.0_trial_2_cls/'\n",
    "if not os.path.exists(save_path):\n",
    "    os.mkdir(save_path)\n",
    "\n",
    "\n",
    "\n",
    "class Options:\n",
    "    def __init__(self, save_grid=False):\n",
    "        self.n_cls = 100\n",
    "        self.save_folder = save_path\n",
    "        if not save_grid:\n",
    "            self.save_dir = os.path.join(save_path, 'img_sample_eval/')\n",
    "        else:\n",
    "            self.save_dir = os.path.join(save_path, 'img_sample_eval_grid/')\n",
    "        self.save_grid = save_grid\n",
    "        self.reinit_freq = 0.05\n",
    "        self.batch_size = 64\n",
    "        self.step_size = 1\n",
    "        self.buffer_size = 10000\n",
    "        self.n_sample_steps = 5\n",
    "        self.print_every = 100\n",
    "        self.dataset = 'cifar100'\n",
    "        self.g_steps = 40\n",
    "#         self.reinit_freq = 0.\n",
    "        if not os.path.exists(self.save_dir):\n",
    "            os.mkdir(self.save_dir)\n",
    "\n",
    "        \n",
    "opt = Options()\n",
    "\n",
    "replay_buffer.size(0) / opt.n_cls"
   ]
  },
  {
   "cell_type": "markdown",
   "id": "f05b1100",
   "metadata": {},
   "source": [
    "## Visualize sample q\n",
    "The visualization of $x \\sim q_{\\theta}$."
   ]
  },
  {
   "cell_type": "code",
   "execution_count": 5,
   "id": "b96e6bcc",
   "metadata": {
    "scrolled": true
   },
   "outputs": [
    {
     "ename": "RuntimeError",
     "evalue": "Expected tensor for argument #1 'input' to have the same device as tensor for argument #2 'weight'; but device 0 does not equal 1 (while checking arguments for cudnn_convolution)",
     "output_type": "error",
     "traceback": [
      "\u001b[0;31m---------------------------------------------------------------------------\u001b[0m",
      "\u001b[0;31mRuntimeError\u001b[0m                              Traceback (most recent call last)",
      "\u001b[0;32m<ipython-input-5-ffafc85d8f4d>\u001b[0m in \u001b[0;36m<module>\u001b[0;34m\u001b[0m\n\u001b[1;32m      2\u001b[0m \u001b[0;34m\u001b[0m\u001b[0m\n\u001b[1;32m      3\u001b[0m \u001b[0msample_q\u001b[0m\u001b[0;34m,\u001b[0m \u001b[0m_\u001b[0m \u001b[0;34m=\u001b[0m \u001b[0mget_sample_q\u001b[0m\u001b[0;34m(\u001b[0m\u001b[0mopt\u001b[0m\u001b[0;34m)\u001b[0m\u001b[0;34m\u001b[0m\u001b[0;34m\u001b[0m\u001b[0m\n\u001b[0;32m----> 4\u001b[0;31m \u001b[0mf_sample\u001b[0m\u001b[0;34m,\u001b[0m \u001b[0msamples\u001b[0m \u001b[0;34m=\u001b[0m \u001b[0msample_q\u001b[0m\u001b[0;34m(\u001b[0m\u001b[0mmodel\u001b[0m\u001b[0;34m,\u001b[0m \u001b[0mreplay_buffer\u001b[0m\u001b[0;34m,\u001b[0m \u001b[0mopen_debug\u001b[0m\u001b[0;34m=\u001b[0m\u001b[0;32mTrue\u001b[0m\u001b[0;34m)\u001b[0m\u001b[0;34m\u001b[0m\u001b[0;34m\u001b[0m\u001b[0m\n\u001b[0m\u001b[1;32m      5\u001b[0m \u001b[0msamples\u001b[0m \u001b[0;34m=\u001b[0m \u001b[0mtorch\u001b[0m\u001b[0;34m.\u001b[0m\u001b[0mcat\u001b[0m\u001b[0;34m(\u001b[0m\u001b[0msamples\u001b[0m\u001b[0;34m,\u001b[0m \u001b[0;36m0\u001b[0m\u001b[0;34m)\u001b[0m\u001b[0;34m.\u001b[0m\u001b[0mcpu\u001b[0m\u001b[0;34m(\u001b[0m\u001b[0;34m)\u001b[0m\u001b[0;34m\u001b[0m\u001b[0;34m\u001b[0m\u001b[0m\n\u001b[1;32m      6\u001b[0m \u001b[0mimgs\u001b[0m \u001b[0;34m=\u001b[0m \u001b[0mplot\u001b[0m\u001b[0;34m(\u001b[0m\u001b[0msamples\u001b[0m\u001b[0;34m)\u001b[0m\u001b[0;34m\u001b[0m\u001b[0;34m\u001b[0m\u001b[0m\n",
      "\u001b[0;32m~/EBKD/helper/util_gen.py\u001b[0m in \u001b[0;36msample_q\u001b[0;34m(f, replay_buffer, y, n_steps, open_debug, open_clip_grad)\u001b[0m\n\u001b[1;32m    195\u001b[0m         \u001b[0mx_k_pre\u001b[0m \u001b[0;34m=\u001b[0m \u001b[0minit_sample\u001b[0m\u001b[0;34m\u001b[0m\u001b[0;34m\u001b[0m\u001b[0m\n\u001b[1;32m    196\u001b[0m         \u001b[0;32mfor\u001b[0m \u001b[0mk\u001b[0m \u001b[0;32min\u001b[0m \u001b[0mrange\u001b[0m\u001b[0;34m(\u001b[0m\u001b[0mn_steps\u001b[0m\u001b[0;34m)\u001b[0m\u001b[0;34m:\u001b[0m\u001b[0;34m\u001b[0m\u001b[0;34m\u001b[0m\u001b[0m\n\u001b[0;32m--> 197\u001b[0;31m             \u001b[0mf_prime\u001b[0m \u001b[0;34m=\u001b[0m \u001b[0mtorch\u001b[0m\u001b[0;34m.\u001b[0m\u001b[0mautograd\u001b[0m\u001b[0;34m.\u001b[0m\u001b[0mgrad\u001b[0m\u001b[0;34m(\u001b[0m\u001b[0mf\u001b[0m\u001b[0;34m(\u001b[0m\u001b[0mx_k\u001b[0m\u001b[0;34m,\u001b[0m \u001b[0my\u001b[0m\u001b[0;34m=\u001b[0m\u001b[0my\u001b[0m\u001b[0;34m)\u001b[0m\u001b[0;34m[\u001b[0m\u001b[0;36m0\u001b[0m\u001b[0;34m]\u001b[0m\u001b[0;34m.\u001b[0m\u001b[0msum\u001b[0m\u001b[0;34m(\u001b[0m\u001b[0;34m)\u001b[0m\u001b[0;34m,\u001b[0m \u001b[0;34m[\u001b[0m\u001b[0mx_k\u001b[0m\u001b[0;34m]\u001b[0m\u001b[0;34m,\u001b[0m \u001b[0mretain_graph\u001b[0m\u001b[0;34m=\u001b[0m\u001b[0;32mTrue\u001b[0m\u001b[0;34m)\u001b[0m\u001b[0;34m[\u001b[0m\u001b[0;36m0\u001b[0m\u001b[0;34m]\u001b[0m\u001b[0;34m\u001b[0m\u001b[0;34m\u001b[0m\u001b[0m\n\u001b[0m\u001b[1;32m    198\u001b[0m             \u001b[0mnoise\u001b[0m \u001b[0;34m=\u001b[0m \u001b[0;36m0.01\u001b[0m \u001b[0;34m*\u001b[0m \u001b[0mtorch\u001b[0m\u001b[0;34m.\u001b[0m\u001b[0mrandn_like\u001b[0m\u001b[0;34m(\u001b[0m\u001b[0mx_k\u001b[0m\u001b[0;34m)\u001b[0m\u001b[0;34m\u001b[0m\u001b[0;34m\u001b[0m\u001b[0m\n\u001b[1;32m    199\u001b[0m             \u001b[0mx_k\u001b[0m \u001b[0;34m=\u001b[0m \u001b[0mx_k\u001b[0m \u001b[0;34m+\u001b[0m \u001b[0mnow_step_size\u001b[0m \u001b[0;34m*\u001b[0m \u001b[0mf_prime\u001b[0m \u001b[0;34m+\u001b[0m \u001b[0mnoise\u001b[0m\u001b[0;34m\u001b[0m\u001b[0;34m\u001b[0m\u001b[0m\n",
      "\u001b[0;32m~/anaconda3/envs/torch/lib/python3.8/site-packages/torch/nn/modules/module.py\u001b[0m in \u001b[0;36m_call_impl\u001b[0;34m(self, *input, **kwargs)\u001b[0m\n\u001b[1;32m    887\u001b[0m             \u001b[0mresult\u001b[0m \u001b[0;34m=\u001b[0m \u001b[0mself\u001b[0m\u001b[0;34m.\u001b[0m\u001b[0m_slow_forward\u001b[0m\u001b[0;34m(\u001b[0m\u001b[0;34m*\u001b[0m\u001b[0minput\u001b[0m\u001b[0;34m,\u001b[0m \u001b[0;34m**\u001b[0m\u001b[0mkwargs\u001b[0m\u001b[0;34m)\u001b[0m\u001b[0;34m\u001b[0m\u001b[0;34m\u001b[0m\u001b[0m\n\u001b[1;32m    888\u001b[0m         \u001b[0;32melse\u001b[0m\u001b[0;34m:\u001b[0m\u001b[0;34m\u001b[0m\u001b[0;34m\u001b[0m\u001b[0m\n\u001b[0;32m--> 889\u001b[0;31m             \u001b[0mresult\u001b[0m \u001b[0;34m=\u001b[0m \u001b[0mself\u001b[0m\u001b[0;34m.\u001b[0m\u001b[0mforward\u001b[0m\u001b[0;34m(\u001b[0m\u001b[0;34m*\u001b[0m\u001b[0minput\u001b[0m\u001b[0;34m,\u001b[0m \u001b[0;34m**\u001b[0m\u001b[0mkwargs\u001b[0m\u001b[0;34m)\u001b[0m\u001b[0;34m\u001b[0m\u001b[0;34m\u001b[0m\u001b[0m\n\u001b[0m\u001b[1;32m    890\u001b[0m         for hook in itertools.chain(\n\u001b[1;32m    891\u001b[0m                 \u001b[0m_global_forward_hooks\u001b[0m\u001b[0;34m.\u001b[0m\u001b[0mvalues\u001b[0m\u001b[0;34m(\u001b[0m\u001b[0;34m)\u001b[0m\u001b[0;34m,\u001b[0m\u001b[0;34m\u001b[0m\u001b[0;34m\u001b[0m\u001b[0m\n",
      "\u001b[0;32m~/EBKD/models/generator.py\u001b[0m in \u001b[0;36mforward\u001b[0;34m(self, x, y, cls_mode, is_feat, preact, py)\u001b[0m\n\u001b[1;32m     75\u001b[0m         \u001b[0;31m#print(cls_mode, is_feat, preact, y)\u001b[0m\u001b[0;34m\u001b[0m\u001b[0;34m\u001b[0m\u001b[0;34m\u001b[0m\u001b[0m\n\u001b[1;32m     76\u001b[0m \u001b[0;34m\u001b[0m\u001b[0m\n\u001b[0;32m---> 77\u001b[0;31m         \u001b[0mfeats\u001b[0m\u001b[0;34m,\u001b[0m \u001b[0mlogits\u001b[0m \u001b[0;34m=\u001b[0m \u001b[0msuper\u001b[0m\u001b[0;34m(\u001b[0m\u001b[0;34m)\u001b[0m\u001b[0;34m.\u001b[0m\u001b[0mclassify\u001b[0m\u001b[0;34m(\u001b[0m\u001b[0mx\u001b[0m\u001b[0;34m,\u001b[0m \u001b[0mis_feat\u001b[0m\u001b[0;34m=\u001b[0m\u001b[0;32mTrue\u001b[0m\u001b[0;34m,\u001b[0m \u001b[0mpreact\u001b[0m\u001b[0;34m=\u001b[0m\u001b[0mpreact\u001b[0m\u001b[0;34m)\u001b[0m\u001b[0;34m\u001b[0m\u001b[0;34m\u001b[0m\u001b[0m\n\u001b[0m\u001b[1;32m     78\u001b[0m \u001b[0;34m\u001b[0m\u001b[0m\n\u001b[1;32m     79\u001b[0m         \u001b[0;31m# feat = feats[-1]\u001b[0m\u001b[0;34m\u001b[0m\u001b[0;34m\u001b[0m\u001b[0;34m\u001b[0m\u001b[0m\n",
      "\u001b[0;32m~/EBKD/models/generator.py\u001b[0m in \u001b[0;36mclassify\u001b[0;34m(self, x, is_feat, preact)\u001b[0m\n\u001b[1;32m     48\u001b[0m     \u001b[0;32mdef\u001b[0m \u001b[0mclassify\u001b[0m\u001b[0;34m(\u001b[0m\u001b[0mself\u001b[0m\u001b[0;34m,\u001b[0m \u001b[0mx\u001b[0m\u001b[0;34m,\u001b[0m \u001b[0mis_feat\u001b[0m\u001b[0;34m=\u001b[0m\u001b[0;32mFalse\u001b[0m\u001b[0;34m,\u001b[0m \u001b[0mpreact\u001b[0m\u001b[0;34m=\u001b[0m\u001b[0;32mFalse\u001b[0m\u001b[0;34m)\u001b[0m\u001b[0;34m:\u001b[0m\u001b[0;34m\u001b[0m\u001b[0;34m\u001b[0m\u001b[0m\n\u001b[1;32m     49\u001b[0m         \u001b[0;32mif\u001b[0m \u001b[0mis_feat\u001b[0m\u001b[0;34m:\u001b[0m\u001b[0;34m\u001b[0m\u001b[0;34m\u001b[0m\u001b[0m\n\u001b[0;32m---> 50\u001b[0;31m             \u001b[0mfeats\u001b[0m\u001b[0;34m,\u001b[0m \u001b[0mpenult_z\u001b[0m \u001b[0;34m=\u001b[0m \u001b[0mself\u001b[0m\u001b[0;34m.\u001b[0m\u001b[0mf\u001b[0m\u001b[0;34m(\u001b[0m\u001b[0mx\u001b[0m\u001b[0;34m,\u001b[0m \u001b[0mis_feat\u001b[0m\u001b[0;34m=\u001b[0m\u001b[0mis_feat\u001b[0m\u001b[0;34m,\u001b[0m \u001b[0mpreact\u001b[0m\u001b[0;34m=\u001b[0m\u001b[0mpreact\u001b[0m\u001b[0;34m)\u001b[0m\u001b[0;34m\u001b[0m\u001b[0;34m\u001b[0m\u001b[0m\n\u001b[0m\u001b[1;32m     51\u001b[0m             \u001b[0;31m# print(penult_z.requires_grad)\u001b[0m\u001b[0;34m\u001b[0m\u001b[0;34m\u001b[0m\u001b[0;34m\u001b[0m\u001b[0m\n\u001b[1;32m     52\u001b[0m             \u001b[0;31m# print(self.f(x, is_feat=is_feat, preact=preact))\u001b[0m\u001b[0;34m\u001b[0m\u001b[0;34m\u001b[0m\u001b[0;34m\u001b[0m\u001b[0m\n",
      "\u001b[0;32m~/anaconda3/envs/torch/lib/python3.8/site-packages/torch/nn/modules/module.py\u001b[0m in \u001b[0;36m_call_impl\u001b[0;34m(self, *input, **kwargs)\u001b[0m\n\u001b[1;32m    887\u001b[0m             \u001b[0mresult\u001b[0m \u001b[0;34m=\u001b[0m \u001b[0mself\u001b[0m\u001b[0;34m.\u001b[0m\u001b[0m_slow_forward\u001b[0m\u001b[0;34m(\u001b[0m\u001b[0;34m*\u001b[0m\u001b[0minput\u001b[0m\u001b[0;34m,\u001b[0m \u001b[0;34m**\u001b[0m\u001b[0mkwargs\u001b[0m\u001b[0;34m)\u001b[0m\u001b[0;34m\u001b[0m\u001b[0;34m\u001b[0m\u001b[0m\n\u001b[1;32m    888\u001b[0m         \u001b[0;32melse\u001b[0m\u001b[0;34m:\u001b[0m\u001b[0;34m\u001b[0m\u001b[0;34m\u001b[0m\u001b[0m\n\u001b[0;32m--> 889\u001b[0;31m             \u001b[0mresult\u001b[0m \u001b[0;34m=\u001b[0m \u001b[0mself\u001b[0m\u001b[0;34m.\u001b[0m\u001b[0mforward\u001b[0m\u001b[0;34m(\u001b[0m\u001b[0;34m*\u001b[0m\u001b[0minput\u001b[0m\u001b[0;34m,\u001b[0m \u001b[0;34m**\u001b[0m\u001b[0mkwargs\u001b[0m\u001b[0;34m)\u001b[0m\u001b[0;34m\u001b[0m\u001b[0;34m\u001b[0m\u001b[0m\n\u001b[0m\u001b[1;32m    890\u001b[0m         for hook in itertools.chain(\n\u001b[1;32m    891\u001b[0m                 \u001b[0m_global_forward_hooks\u001b[0m\u001b[0;34m.\u001b[0m\u001b[0mvalues\u001b[0m\u001b[0;34m(\u001b[0m\u001b[0;34m)\u001b[0m\u001b[0;34m,\u001b[0m\u001b[0;34m\u001b[0m\u001b[0;34m\u001b[0m\u001b[0m\n",
      "\u001b[0;32m~/EBKD/models/widerresnet.py\u001b[0m in \u001b[0;36mforward\u001b[0;34m(self, x, vx, is_feat, preact)\u001b[0m\n\u001b[1;32m    113\u001b[0m \u001b[0;34m\u001b[0m\u001b[0m\n\u001b[1;32m    114\u001b[0m     \u001b[0;32mdef\u001b[0m \u001b[0mforward\u001b[0m\u001b[0;34m(\u001b[0m\u001b[0mself\u001b[0m\u001b[0;34m,\u001b[0m \u001b[0mx\u001b[0m\u001b[0;34m,\u001b[0m \u001b[0mvx\u001b[0m\u001b[0;34m=\u001b[0m\u001b[0;32mNone\u001b[0m\u001b[0;34m,\u001b[0m \u001b[0mis_feat\u001b[0m\u001b[0;34m=\u001b[0m\u001b[0;32mFalse\u001b[0m\u001b[0;34m,\u001b[0m \u001b[0mpreact\u001b[0m\u001b[0;34m=\u001b[0m\u001b[0;32mFalse\u001b[0m\u001b[0;34m)\u001b[0m\u001b[0;34m:\u001b[0m\u001b[0;34m\u001b[0m\u001b[0;34m\u001b[0m\u001b[0m\n\u001b[0;32m--> 115\u001b[0;31m         \u001b[0mf1\u001b[0m \u001b[0;34m=\u001b[0m \u001b[0mself\u001b[0m\u001b[0;34m.\u001b[0m\u001b[0mconv1\u001b[0m\u001b[0;34m(\u001b[0m\u001b[0mx\u001b[0m\u001b[0;34m)\u001b[0m\u001b[0;34m\u001b[0m\u001b[0;34m\u001b[0m\u001b[0m\n\u001b[0m\u001b[1;32m    116\u001b[0m         \u001b[0mf2\u001b[0m \u001b[0;34m=\u001b[0m \u001b[0mself\u001b[0m\u001b[0;34m.\u001b[0m\u001b[0mlayer1\u001b[0m\u001b[0;34m(\u001b[0m\u001b[0mf1\u001b[0m\u001b[0;34m)\u001b[0m\u001b[0;34m\u001b[0m\u001b[0;34m\u001b[0m\u001b[0m\n\u001b[1;32m    117\u001b[0m         \u001b[0mf3\u001b[0m \u001b[0;34m=\u001b[0m \u001b[0mself\u001b[0m\u001b[0;34m.\u001b[0m\u001b[0mlayer2\u001b[0m\u001b[0;34m(\u001b[0m\u001b[0mf2\u001b[0m\u001b[0;34m)\u001b[0m\u001b[0;34m\u001b[0m\u001b[0;34m\u001b[0m\u001b[0m\n",
      "\u001b[0;32m~/anaconda3/envs/torch/lib/python3.8/site-packages/torch/nn/modules/module.py\u001b[0m in \u001b[0;36m_call_impl\u001b[0;34m(self, *input, **kwargs)\u001b[0m\n\u001b[1;32m    887\u001b[0m             \u001b[0mresult\u001b[0m \u001b[0;34m=\u001b[0m \u001b[0mself\u001b[0m\u001b[0;34m.\u001b[0m\u001b[0m_slow_forward\u001b[0m\u001b[0;34m(\u001b[0m\u001b[0;34m*\u001b[0m\u001b[0minput\u001b[0m\u001b[0;34m,\u001b[0m \u001b[0;34m**\u001b[0m\u001b[0mkwargs\u001b[0m\u001b[0;34m)\u001b[0m\u001b[0;34m\u001b[0m\u001b[0;34m\u001b[0m\u001b[0m\n\u001b[1;32m    888\u001b[0m         \u001b[0;32melse\u001b[0m\u001b[0;34m:\u001b[0m\u001b[0;34m\u001b[0m\u001b[0;34m\u001b[0m\u001b[0m\n\u001b[0;32m--> 889\u001b[0;31m             \u001b[0mresult\u001b[0m \u001b[0;34m=\u001b[0m \u001b[0mself\u001b[0m\u001b[0;34m.\u001b[0m\u001b[0mforward\u001b[0m\u001b[0;34m(\u001b[0m\u001b[0;34m*\u001b[0m\u001b[0minput\u001b[0m\u001b[0;34m,\u001b[0m \u001b[0;34m**\u001b[0m\u001b[0mkwargs\u001b[0m\u001b[0;34m)\u001b[0m\u001b[0;34m\u001b[0m\u001b[0;34m\u001b[0m\u001b[0m\n\u001b[0m\u001b[1;32m    890\u001b[0m         for hook in itertools.chain(\n\u001b[1;32m    891\u001b[0m                 \u001b[0m_global_forward_hooks\u001b[0m\u001b[0;34m.\u001b[0m\u001b[0mvalues\u001b[0m\u001b[0;34m(\u001b[0m\u001b[0;34m)\u001b[0m\u001b[0;34m,\u001b[0m\u001b[0;34m\u001b[0m\u001b[0;34m\u001b[0m\u001b[0m\n",
      "\u001b[0;32m~/anaconda3/envs/torch/lib/python3.8/site-packages/torch/nn/modules/conv.py\u001b[0m in \u001b[0;36mforward\u001b[0;34m(self, input)\u001b[0m\n\u001b[1;32m    397\u001b[0m \u001b[0;34m\u001b[0m\u001b[0m\n\u001b[1;32m    398\u001b[0m     \u001b[0;32mdef\u001b[0m \u001b[0mforward\u001b[0m\u001b[0;34m(\u001b[0m\u001b[0mself\u001b[0m\u001b[0;34m,\u001b[0m \u001b[0minput\u001b[0m\u001b[0;34m:\u001b[0m \u001b[0mTensor\u001b[0m\u001b[0;34m)\u001b[0m \u001b[0;34m->\u001b[0m \u001b[0mTensor\u001b[0m\u001b[0;34m:\u001b[0m\u001b[0;34m\u001b[0m\u001b[0;34m\u001b[0m\u001b[0m\n\u001b[0;32m--> 399\u001b[0;31m         \u001b[0;32mreturn\u001b[0m \u001b[0mself\u001b[0m\u001b[0;34m.\u001b[0m\u001b[0m_conv_forward\u001b[0m\u001b[0;34m(\u001b[0m\u001b[0minput\u001b[0m\u001b[0;34m,\u001b[0m \u001b[0mself\u001b[0m\u001b[0;34m.\u001b[0m\u001b[0mweight\u001b[0m\u001b[0;34m,\u001b[0m \u001b[0mself\u001b[0m\u001b[0;34m.\u001b[0m\u001b[0mbias\u001b[0m\u001b[0;34m)\u001b[0m\u001b[0;34m\u001b[0m\u001b[0;34m\u001b[0m\u001b[0m\n\u001b[0m\u001b[1;32m    400\u001b[0m \u001b[0;34m\u001b[0m\u001b[0m\n\u001b[1;32m    401\u001b[0m \u001b[0;32mclass\u001b[0m \u001b[0mConv3d\u001b[0m\u001b[0;34m(\u001b[0m\u001b[0m_ConvNd\u001b[0m\u001b[0;34m)\u001b[0m\u001b[0;34m:\u001b[0m\u001b[0;34m\u001b[0m\u001b[0;34m\u001b[0m\u001b[0m\n",
      "\u001b[0;32m~/anaconda3/envs/torch/lib/python3.8/site-packages/torch/nn/modules/conv.py\u001b[0m in \u001b[0;36m_conv_forward\u001b[0;34m(self, input, weight, bias)\u001b[0m\n\u001b[1;32m    393\u001b[0m                             \u001b[0mweight\u001b[0m\u001b[0;34m,\u001b[0m \u001b[0mbias\u001b[0m\u001b[0;34m,\u001b[0m \u001b[0mself\u001b[0m\u001b[0;34m.\u001b[0m\u001b[0mstride\u001b[0m\u001b[0;34m,\u001b[0m\u001b[0;34m\u001b[0m\u001b[0;34m\u001b[0m\u001b[0m\n\u001b[1;32m    394\u001b[0m                             _pair(0), self.dilation, self.groups)\n\u001b[0;32m--> 395\u001b[0;31m         return F.conv2d(input, weight, bias, self.stride,\n\u001b[0m\u001b[1;32m    396\u001b[0m                         self.padding, self.dilation, self.groups)\n\u001b[1;32m    397\u001b[0m \u001b[0;34m\u001b[0m\u001b[0m\n",
      "\u001b[0;31mRuntimeError\u001b[0m: Expected tensor for argument #1 'input' to have the same device as tensor for argument #2 'weight'; but device 0 does not equal 1 (while checking arguments for cudnn_convolution)"
     ]
    }
   ],
   "source": [
    "from helper.util_gen import get_sample_q\n",
    "\n",
    "sample_q, _ = get_sample_q(opt)\n",
    "f_sample, samples = sample_q(model, replay_buffer, open_debug=True)\n",
    "samples = torch.cat(samples, 0).cpu()\n",
    "imgs = plot(samples)\n",
    "img = np.transpose(imgs, (1,2,0))\n",
    "plt.figure(10)\n",
    "plt.imshow(img)"
   ]
  },
  {
   "cell_type": "code",
   "execution_count": 6,
   "id": "2425ebb1",
   "metadata": {},
   "outputs": [],
   "source": [
    "!rm -rf /data/lijingru/EBKD/save/student_model/resnet28x10_T:resnet32x4_S:resnet8x4_cifar100_lr_0.0001_decay_0.0_buffer_size_10000_lpx_1.0_lpxy_0.0_energy_mode_mcmc_step_size_1.0_trial_1_st_random_cls_mode_cls_k_3/img_sample_eval/"
   ]
  },
  {
   "cell_type": "code",
   "execution_count": 7,
   "id": "71d363c8",
   "metadata": {},
   "outputs": [
    {
     "name": "stderr",
     "output_type": "stream",
     "text": [
<<<<<<< HEAD
      "100%|██████████| 100/100 [02:03<00:00,  1.24s/it]"
=======
      "100%|██████████| 100/100 [02:06<00:00,  1.26s/it]"
>>>>>>> 125a480f14efea4ef9a9bc75e2c5410558eaeb08
     ]
    },
    {
     "name": "stdout",
     "output_type": "stream",
     "text": [
      "Successfully saving the generated result of replay buffer.\n"
     ]
    },
    {
     "name": "stderr",
     "output_type": "stream",
     "text": [
      "\n"
     ]
    }
   ],
   "source": [
    "from helper.util_gen import cond_samples\n",
    "opt = Options()\n",
    "if not os.path.exists(opt.save_dir):\n",
    "    os.mkdir(opt.save_dir)\n",
    "# model.cuda()\n",
    "cond_samples(model, replay_buffer, device, opt, use_buffer=True)"
   ]
  },
  {
   "cell_type": "code",
   "execution_count": 8,
   "id": "bc3f5e0e",
   "metadata": {
    "scrolled": true
   },
   "outputs": [
    {
     "name": "stderr",
     "output_type": "stream",
     "text": [
      "/data/lijingru/anaconda3/envs/torch/lib/python3.8/site-packages/torch/nn/functional.py:3454: UserWarning: Default upsampling behavior when mode=bilinear is changed to align_corners=False since 0.4.0. Please specify align_corners=True if the old behavior is desired. See the documentation of nn.Upsample for details.\n",
      "  warnings.warn(\n"
     ]
    },
    {
     "name": "stdout",
     "output_type": "stream",
     "text": [
      "7.526347134468909 0.14822711902572727\n",
      "10000\n"
     ]
    }
   ],
   "source": [
    "from helper.util import inception_score\n",
    "from datasets.cifar100 import CIFAR100Gen\n",
    "import torchvision.transforms as T\n",
    "if not opt.save_grid:\n",
    "    test_folder = opt.save_dir\n",
    "    dataset = CIFAR100Gen(\n",
    "        root=test_folder,\n",
    "        transform=T.Compose([\n",
    "            T.ToTensor(),\n",
    "            T.Normalize((0.4914, 0.4822, 0.4465), (0.2023, 0.1994, 0.2010))\n",
    "        ])\n",
    "    )\n",
    "    mean, var = inception_score(dataset, device, resize=True, splits=3, batch_size=8)\n",
    "    print(mean, var)\n",
    "    \n",
    "# print(os.listdir(test_folder))\n",
    "print(len(os.listdir(test_folder)))"
   ]
  },
  {
   "cell_type": "code",
   "execution_count": 11,
   "id": "9e101989",
   "metadata": {},
   "outputs": [
    {
     "data": {
      "text/plain": [
       "['samples_label_40_85.png',\n",
       " 'samples_label_47_62.png',\n",
       " 'samples_label_37_45.png',\n",
       " 'samples_label_16_51.png',\n",
       " 'samples_label_65_13.png',\n",
       " 'samples_label_81_71.png',\n",
       " 'samples_label_67_42.png',\n",
       " 'samples_label_33_42.png',\n",
       " 'samples_label_87_42.png',\n",
       " 'samples_label_92_71.png',\n",
       " 'samples_label_88_45.png',\n",
       " 'samples_label_13_57.png',\n",
       " 'samples_label_97_22.png',\n",
       " 'samples_label_34_57.png',\n",
       " 'samples_label_80_44.png',\n",
       " 'samples_label_2_42.png',\n",
       " 'samples_label_45_59.png',\n",
       " 'samples_label_43_5.png',\n",
       " 'samples_label_32_27.png',\n",
       " 'samples_label_53_54.png',\n",
       " 'samples_label_62_13.png',\n",
       " 'samples_label_88_63.png',\n",
       " 'samples_label_39_38.png',\n",
       " 'samples_label_32_89.png',\n",
       " 'samples_label_92_33.png',\n",
       " 'samples_label_80_22.png',\n",
       " 'samples_label_10_83.png',\n",
       " 'samples_label_12_46.png',\n",
       " 'samples_label_62_91.png',\n",
       " 'samples_label_70_9.png',\n",
       " 'samples_label_89_80.png',\n",
       " 'samples_label_26_24.png',\n",
       " 'samples_label_48_41.png',\n",
       " 'samples_label_74_56.png',\n",
       " 'samples_label_70_35.png',\n",
       " 'samples_label_78_29.png',\n",
       " 'samples_label_63_31.png',\n",
       " 'samples_label_9_99.png',\n",
       " 'samples_label_32_26.png',\n",
       " 'samples_label_64_34.png',\n",
       " 'samples_label_2_52.png',\n",
       " 'samples_label_26_36.png',\n",
       " 'samples_label_18_74.png',\n",
       " 'samples_label_98_32.png',\n",
       " 'samples_label_92_10.png',\n",
       " 'samples_label_95_36.png',\n",
       " 'samples_label_94_40.png',\n",
       " 'samples_label_1_90.png',\n",
       " 'samples_label_37_6.png',\n",
       " 'samples_label_41_78.png',\n",
       " 'samples_label_53_18.png',\n",
       " 'samples_label_77_50.png',\n",
       " 'samples_label_94_58.png',\n",
       " 'samples_label_66_80.png',\n",
       " 'samples_label_8_40.png',\n",
       " 'samples_label_7_97.png',\n",
       " 'samples_label_87_84.png',\n",
       " 'samples_label_41_47.png',\n",
       " 'samples_label_30_5.png',\n",
       " 'samples_label_50_68.png',\n",
       " 'samples_label_64_89.png',\n",
       " 'samples_label_62_92.png',\n",
       " 'samples_label_15_99.png',\n",
       " 'samples_label_32_98.png',\n",
       " 'samples_label_59_78.png',\n",
       " 'samples_label_3_26.png',\n",
       " 'samples_label_65_52.png',\n",
       " 'samples_label_87_94.png',\n",
       " 'samples_label_21_42.png',\n",
       " 'samples_label_11_94.png',\n",
       " 'samples_label_65_63.png',\n",
       " 'samples_label_92_53.png',\n",
       " 'samples_label_91_0.png',\n",
       " 'samples_label_94_10.png',\n",
       " 'samples_label_95_49.png',\n",
       " 'samples_label_98_74.png',\n",
       " 'samples_label_81_58.png',\n",
       " 'samples_label_89_51.png',\n",
       " 'samples_label_69_27.png',\n",
       " 'samples_label_85_92.png',\n",
       " 'samples_label_5_39.png',\n",
       " 'samples_label_37_44.png',\n",
       " 'samples_label_20_85.png',\n",
       " 'samples_label_43_90.png',\n",
       " 'samples_label_1_97.png',\n",
       " 'samples_label_98_85.png',\n",
       " 'samples_label_6_86.png',\n",
       " 'samples_label_33_49.png',\n",
       " 'samples_label_80_9.png',\n",
       " 'samples_label_65_56.png',\n",
       " 'samples_label_57_36.png',\n",
       " 'samples_label_97_98.png',\n",
       " 'samples_label_52_73.png',\n",
       " 'samples_label_24_81.png',\n",
       " 'samples_label_91_47.png',\n",
       " 'samples_label_12_64.png',\n",
       " 'samples_label_91_86.png',\n",
       " 'samples_label_91_39.png',\n",
       " 'samples_label_12_60.png',\n",
       " 'samples_label_86_25.png',\n",
       " 'samples_label_21_30.png',\n",
       " 'samples_label_40_9.png',\n",
       " 'samples_label_47_48.png',\n",
       " 'samples_label_23_47.png',\n",
       " 'samples_label_13_8.png',\n",
       " 'samples_label_41_83.png',\n",
       " 'samples_label_99_58.png',\n",
       " 'samples_label_9_34.png',\n",
       " 'samples_label_43_44.png',\n",
       " 'samples_label_16_97.png',\n",
       " 'samples_label_8_4.png',\n",
       " 'samples_label_4_74.png',\n",
       " 'samples_label_23_57.png',\n",
       " 'samples_label_41_67.png',\n",
       " 'samples_label_33_18.png',\n",
       " 'samples_label_23_9.png',\n",
       " 'samples_label_53_34.png',\n",
       " 'samples_label_30_54.png',\n",
       " 'samples_label_88_57.png',\n",
       " 'samples_label_95_57.png',\n",
       " 'samples_label_46_32.png',\n",
       " 'samples_label_95_56.png',\n",
       " 'samples_label_54_59.png',\n",
       " 'samples_label_35_21.png',\n",
       " 'samples_label_22_63.png',\n",
       " 'samples_label_21_41.png',\n",
       " 'samples_label_20_84.png',\n",
       " 'samples_label_64_70.png',\n",
       " 'samples_label_0_65.png',\n",
       " 'samples_label_44_56.png',\n",
       " 'samples_label_19_30.png',\n",
       " 'samples_label_81_74.png',\n",
       " 'samples_label_72_8.png',\n",
       " 'samples_label_38_47.png',\n",
       " 'samples_label_42_26.png',\n",
       " 'samples_label_28_14.png',\n",
       " 'samples_label_5_97.png',\n",
       " 'samples_label_25_71.png',\n",
       " 'samples_label_26_44.png',\n",
       " 'samples_label_96_71.png',\n",
       " 'samples_label_1_40.png',\n",
       " 'samples_label_35_7.png',\n",
       " 'samples_label_43_33.png',\n",
       " 'samples_label_15_75.png',\n",
       " 'samples_label_60_9.png',\n",
       " 'samples_label_54_20.png',\n",
       " 'samples_label_26_29.png',\n",
       " 'samples_label_56_44.png',\n",
       " 'samples_label_15_26.png',\n",
       " 'samples_label_69_4.png',\n",
       " 'samples_label_34_98.png',\n",
       " 'samples_label_58_54.png',\n",
       " 'samples_label_41_57.png',\n",
       " 'samples_label_51_63.png',\n",
       " 'samples_label_11_18.png',\n",
       " 'samples_label_38_8.png',\n",
       " 'samples_label_18_90.png',\n",
       " 'samples_label_92_31.png',\n",
       " 'samples_label_77_23.png',\n",
       " 'samples_label_95_91.png',\n",
       " 'samples_label_90_60.png',\n",
       " 'samples_label_89_75.png',\n",
       " 'samples_label_29_74.png',\n",
       " 'samples_label_39_6.png',\n",
       " 'samples_label_36_14.png',\n",
       " 'samples_label_30_62.png',\n",
       " 'samples_label_39_34.png',\n",
       " 'samples_label_65_91.png',\n",
       " 'samples_label_96_84.png',\n",
       " 'samples_label_62_79.png',\n",
       " 'samples_label_21_96.png',\n",
       " 'samples_label_31_26.png',\n",
       " 'samples_label_98_82.png',\n",
       " 'samples_label_48_12.png',\n",
       " 'samples_label_12_37.png',\n",
       " 'samples_label_37_1.png',\n",
       " 'samples_label_64_95.png',\n",
       " 'samples_label_69_87.png',\n",
       " 'samples_label_27_78.png',\n",
       " 'samples_label_30_52.png',\n",
       " 'samples_label_94_27.png',\n",
       " 'samples_label_58_69.png',\n",
       " 'samples_label_36_35.png',\n",
       " 'samples_label_51_43.png',\n",
       " 'samples_label_2_43.png',\n",
       " 'samples_label_56_45.png',\n",
       " 'samples_label_63_86.png',\n",
       " 'samples_label_34_24.png',\n",
       " 'samples_label_32_33.png',\n",
       " 'samples_label_54_49.png',\n",
       " 'samples_label_60_97.png',\n",
       " 'samples_label_70_27.png',\n",
       " 'samples_label_88_96.png',\n",
       " 'samples_label_49_85.png',\n",
       " 'samples_label_91_51.png',\n",
       " 'samples_label_51_60.png',\n",
       " 'samples_label_13_67.png',\n",
       " 'samples_label_7_36.png',\n",
       " 'samples_label_74_84.png',\n",
       " 'samples_label_79_84.png',\n",
       " 'samples_label_94_50.png',\n",
       " 'samples_label_51_75.png',\n",
       " 'samples_label_99_62.png',\n",
       " 'samples_label_21_58.png',\n",
       " 'samples_label_15_91.png',\n",
       " 'samples_label_28_54.png',\n",
       " 'samples_label_31_93.png',\n",
       " 'samples_label_61_89.png',\n",
       " 'samples_label_99_63.png',\n",
       " 'samples_label_92_62.png',\n",
       " 'samples_label_46_52.png',\n",
       " 'samples_label_63_38.png',\n",
       " 'samples_label_97_31.png',\n",
       " 'samples_label_85_29.png',\n",
       " 'samples_label_9_67.png',\n",
       " 'samples_label_75_97.png',\n",
       " 'samples_label_72_69.png',\n",
       " 'samples_label_80_7.png',\n",
       " 'samples_label_21_6.png',\n",
       " 'samples_label_58_17.png',\n",
       " 'samples_label_41_38.png',\n",
       " 'samples_label_26_8.png',\n",
       " 'samples_label_40_13.png',\n",
       " 'samples_label_5_28.png',\n",
       " 'samples_label_91_63.png',\n",
       " 'samples_label_21_47.png',\n",
       " 'samples_label_14_55.png',\n",
       " 'samples_label_46_43.png',\n",
       " 'samples_label_62_69.png',\n",
       " 'samples_label_19_39.png',\n",
       " 'samples_label_54_97.png',\n",
       " 'samples_label_59_89.png',\n",
       " 'samples_label_23_82.png',\n",
       " 'samples_label_26_4.png',\n",
       " 'samples_label_48_28.png',\n",
       " 'samples_label_34_12.png',\n",
       " 'samples_label_42_58.png',\n",
       " 'samples_label_92_86.png',\n",
       " 'samples_label_45_58.png',\n",
       " 'samples_label_14_52.png',\n",
       " 'samples_label_7_13.png',\n",
       " 'samples_label_15_18.png',\n",
       " 'samples_label_49_17.png',\n",
       " 'samples_label_22_1.png',\n",
       " 'samples_label_40_69.png',\n",
       " 'samples_label_51_78.png',\n",
       " 'samples_label_5_45.png',\n",
       " 'samples_label_45_37.png',\n",
       " 'samples_label_48_36.png',\n",
       " 'samples_label_52_57.png',\n",
       " 'samples_label_99_16.png',\n",
       " 'samples_label_71_60.png',\n",
       " 'samples_label_24_88.png',\n",
       " 'samples_label_90_92.png',\n",
       " 'samples_label_88_54.png',\n",
       " 'samples_label_94_66.png',\n",
       " 'samples_label_61_66.png',\n",
       " 'samples_label_48_58.png',\n",
       " 'samples_label_86_9.png',\n",
       " 'samples_label_58_37.png',\n",
       " 'samples_label_30_83.png',\n",
       " 'samples_label_5_26.png',\n",
       " 'samples_label_72_64.png',\n",
       " 'samples_label_41_8.png',\n",
       " 'samples_label_76_79.png',\n",
       " 'samples_label_11_68.png',\n",
       " 'samples_label_23_64.png',\n",
       " 'samples_label_18_4.png',\n",
       " 'samples_label_23_90.png',\n",
       " 'samples_label_52_22.png',\n",
       " 'samples_label_75_99.png',\n",
       " 'samples_label_98_89.png',\n",
       " 'samples_label_99_33.png',\n",
       " 'samples_label_91_45.png',\n",
       " 'samples_label_97_25.png',\n",
       " 'samples_label_0_54.png',\n",
       " 'samples_label_34_35.png',\n",
       " 'samples_label_68_45.png',\n",
       " 'samples_label_4_9.png',\n",
       " 'samples_label_56_75.png',\n",
       " 'samples_label_17_39.png',\n",
       " 'samples_label_34_18.png',\n",
       " 'samples_label_24_96.png',\n",
       " 'samples_label_55_31.png',\n",
       " 'samples_label_68_99.png',\n",
       " 'samples_label_30_23.png',\n",
       " 'samples_label_6_33.png',\n",
       " 'samples_label_59_65.png',\n",
       " 'samples_label_57_77.png',\n",
       " 'samples_label_97_66.png',\n",
       " 'samples_label_88_31.png',\n",
       " 'samples_label_41_81.png',\n",
       " 'samples_label_46_18.png',\n",
       " 'samples_label_98_1.png',\n",
       " 'samples_label_68_16.png',\n",
       " 'samples_label_0_92.png',\n",
       " 'samples_label_31_18.png',\n",
       " 'samples_label_80_66.png',\n",
       " 'samples_label_67_51.png',\n",
       " 'samples_label_60_3.png',\n",
       " 'samples_label_0_5.png',\n",
       " 'samples_label_42_37.png',\n",
       " 'samples_label_83_94.png',\n",
       " 'samples_label_98_25.png',\n",
       " 'samples_label_42_54.png',\n",
       " 'samples_label_99_40.png',\n",
       " 'samples_label_13_82.png',\n",
       " 'samples_label_19_9.png',\n",
       " 'samples_label_75_89.png',\n",
       " 'samples_label_30_25.png',\n",
       " 'samples_label_86_28.png',\n",
       " 'samples_label_66_72.png',\n",
       " 'samples_label_53_91.png',\n",
       " 'samples_label_73_63.png',\n",
       " 'samples_label_89_23.png',\n",
       " 'samples_label_36_20.png',\n",
       " 'samples_label_16_84.png',\n",
       " 'samples_label_64_39.png',\n",
       " 'samples_label_64_11.png',\n",
       " 'samples_label_3_67.png',\n",
       " 'samples_label_33_52.png',\n",
       " 'samples_label_51_35.png',\n",
       " 'samples_label_76_12.png',\n",
       " 'samples_label_7_55.png',\n",
       " 'samples_label_94_11.png',\n",
       " 'samples_label_32_13.png',\n",
       " 'samples_label_9_7.png',\n",
       " 'samples_label_53_43.png',\n",
       " 'samples_label_99_67.png',\n",
       " 'samples_label_94_41.png',\n",
       " 'samples_label_72_63.png',\n",
       " 'samples_label_48_73.png',\n",
       " 'samples_label_40_57.png',\n",
       " 'samples_label_98_31.png',\n",
       " 'samples_label_29_96.png',\n",
       " 'samples_label_47_59.png',\n",
       " 'samples_label_3_14.png',\n",
       " 'samples_label_96_73.png',\n",
       " 'samples_label_10_25.png',\n",
       " 'samples_label_86_85.png',\n",
       " 'samples_label_19_78.png',\n",
       " 'samples_label_54_81.png',\n",
       " 'samples_label_87_65.png',\n",
       " 'samples_label_9_64.png',\n",
       " 'samples_label_74_74.png',\n",
       " 'samples_label_59_64.png',\n",
       " 'samples_label_10_80.png',\n",
       " 'samples_label_6_60.png',\n",
       " 'samples_label_10_6.png',\n",
       " 'samples_label_25_63.png',\n",
       " 'samples_label_74_92.png',\n",
       " 'samples_label_88_42.png',\n",
       " 'samples_label_76_25.png',\n",
       " 'samples_label_37_73.png',\n",
       " 'samples_label_60_99.png',\n",
       " 'samples_label_2_85.png',\n",
       " 'samples_label_49_34.png',\n",
       " 'samples_label_37_46.png',\n",
       " 'samples_label_79_40.png',\n",
       " 'samples_label_18_51.png',\n",
       " 'samples_label_16_81.png',\n",
       " 'samples_label_28_52.png',\n",
       " 'samples_label_78_84.png',\n",
       " 'samples_label_59_44.png',\n",
       " 'samples_label_98_5.png',\n",
       " 'samples_label_85_14.png',\n",
       " 'samples_label_33_17.png',\n",
       " 'samples_label_88_12.png',\n",
       " 'samples_label_59_26.png',\n",
       " 'samples_label_29_17.png',\n",
       " 'samples_label_99_89.png',\n",
       " 'samples_label_20_23.png',\n",
       " 'samples_label_19_57.png',\n",
       " 'samples_label_94_32.png',\n",
       " 'samples_label_17_73.png',\n",
       " 'samples_label_97_81.png',\n",
       " 'samples_label_6_85.png',\n",
       " 'samples_label_42_0.png',\n",
       " 'samples_label_91_62.png',\n",
       " 'samples_label_38_7.png',\n",
       " 'samples_label_93_35.png',\n",
       " 'samples_label_59_71.png',\n",
       " 'samples_label_22_30.png',\n",
       " 'samples_label_48_77.png',\n",
       " 'samples_label_45_39.png',\n",
       " 'samples_label_53_42.png',\n",
       " 'samples_label_89_12.png',\n",
       " 'samples_label_86_20.png',\n",
       " 'samples_label_37_58.png',\n",
       " 'samples_label_86_16.png',\n",
       " 'samples_label_11_60.png',\n",
       " 'samples_label_50_8.png',\n",
       " 'samples_label_6_82.png',\n",
       " 'samples_label_74_26.png',\n",
       " 'samples_label_12_33.png',\n",
       " 'samples_label_69_65.png',\n",
       " 'samples_label_33_1.png',\n",
       " 'samples_label_5_81.png',\n",
       " 'samples_label_29_77.png',\n",
       " 'samples_label_3_1.png',\n",
       " 'samples_label_81_29.png',\n",
       " 'samples_label_30_29.png',\n",
       " 'samples_label_91_4.png',\n",
       " 'samples_label_26_71.png',\n",
       " 'samples_label_30_88.png',\n",
       " 'samples_label_25_70.png',\n",
       " 'samples_label_21_45.png',\n",
       " 'samples_label_20_78.png',\n",
       " 'samples_label_74_51.png',\n",
       " 'samples_label_59_96.png',\n",
       " 'samples_label_55_22.png',\n",
       " 'samples_label_54_65.png',\n",
       " 'samples_label_47_51.png',\n",
       " 'samples_label_47_99.png',\n",
       " 'samples_label_21_44.png',\n",
       " 'samples_label_59_47.png',\n",
       " 'samples_label_38_10.png',\n",
       " 'samples_label_77_3.png',\n",
       " 'samples_label_68_82.png',\n",
       " 'samples_label_38_18.png',\n",
       " 'samples_label_25_25.png',\n",
       " 'samples_label_79_36.png',\n",
       " 'samples_label_73_38.png',\n",
       " 'samples_label_6_12.png',\n",
       " 'samples_label_10_37.png',\n",
       " 'samples_label_91_55.png',\n",
       " 'samples_label_36_16.png',\n",
       " 'samples_label_95_45.png',\n",
       " 'samples_label_80_21.png',\n",
       " 'samples_label_65_31.png',\n",
       " 'samples_label_32_25.png',\n",
       " 'samples_label_60_25.png',\n",
       " 'samples_label_65_3.png',\n",
       " 'samples_label_93_84.png',\n",
       " 'samples_label_8_33.png',\n",
       " 'samples_label_80_58.png',\n",
       " 'samples_label_67_85.png',\n",
       " 'samples_label_64_99.png',\n",
       " 'samples_label_78_72.png',\n",
       " 'samples_label_49_31.png',\n",
       " 'samples_label_33_82.png',\n",
       " 'samples_label_71_67.png',\n",
       " 'samples_label_17_9.png',\n",
       " 'samples_label_44_88.png',\n",
       " 'samples_label_26_49.png',\n",
       " 'samples_label_56_50.png',\n",
       " 'samples_label_7_3.png',\n",
       " 'samples_label_58_7.png',\n",
       " 'samples_label_11_6.png',\n",
       " 'samples_label_15_68.png',\n",
       " 'samples_label_34_42.png',\n",
       " 'samples_label_4_61.png',\n",
       " 'samples_label_11_0.png',\n",
       " 'samples_label_2_97.png',\n",
       " 'samples_label_72_51.png',\n",
       " 'samples_label_71_56.png',\n",
       " 'samples_label_99_59.png',\n",
       " 'samples_label_18_50.png',\n",
       " 'samples_label_67_5.png',\n",
       " 'samples_label_87_49.png',\n",
       " 'samples_label_51_87.png',\n",
       " 'samples_label_89_55.png',\n",
       " 'samples_label_74_81.png',\n",
       " 'samples_label_24_83.png',\n",
       " 'samples_label_43_95.png',\n",
       " 'samples_label_43_4.png',\n",
       " 'samples_label_15_90.png',\n",
       " 'samples_label_11_62.png',\n",
       " 'samples_label_94_24.png',\n",
       " 'samples_label_63_54.png',\n",
       " 'samples_label_82_35.png',\n",
       " 'samples_label_72_10.png',\n",
       " 'samples_label_39_89.png',\n",
       " 'samples_label_82_95.png',\n",
       " 'samples_label_17_44.png',\n",
       " 'samples_label_91_79.png',\n",
       " 'samples_label_76_94.png',\n",
       " 'samples_label_91_13.png',\n",
       " 'samples_label_37_42.png',\n",
       " 'samples_label_96_88.png',\n",
       " 'samples_label_41_12.png',\n",
       " 'samples_label_22_23.png',\n",
       " 'samples_label_84_91.png',\n",
       " 'samples_label_77_93.png',\n",
       " 'samples_label_67_16.png',\n",
       " 'samples_label_42_9.png',\n",
       " 'samples_label_9_40.png',\n",
       " 'samples_label_30_50.png',\n",
       " 'samples_label_59_85.png',\n",
       " 'samples_label_67_59.png',\n",
       " 'samples_label_34_4.png',\n",
       " 'samples_label_66_21.png',\n",
       " 'samples_label_85_39.png',\n",
       " 'samples_label_42_56.png',\n",
       " 'samples_label_0_22.png',\n",
       " 'samples_label_27_93.png',\n",
       " 'samples_label_67_92.png',\n",
       " 'samples_label_39_5.png',\n",
       " 'samples_label_24_23.png',\n",
       " 'samples_label_78_47.png',\n",
       " 'samples_label_75_4.png',\n",
       " 'samples_label_84_68.png',\n",
       " 'samples_label_24_19.png',\n",
       " 'samples_label_20_83.png',\n",
       " 'samples_label_31_25.png',\n",
       " 'samples_label_85_83.png',\n",
       " 'samples_label_62_83.png',\n",
       " 'samples_label_54_92.png',\n",
       " 'samples_label_65_93.png',\n",
       " 'samples_label_49_96.png',\n",
       " 'samples_label_86_97.png',\n",
       " 'samples_label_27_31.png',\n",
       " 'samples_label_21_46.png',\n",
       " 'samples_label_46_90.png',\n",
       " 'samples_label_41_37.png',\n",
       " 'samples_label_74_2.png',\n",
       " 'samples_label_94_64.png',\n",
       " 'samples_label_64_82.png',\n",
       " 'samples_label_98_90.png',\n",
       " 'samples_label_64_42.png',\n",
       " 'samples_label_15_69.png',\n",
       " 'samples_label_50_52.png',\n",
       " 'samples_label_93_39.png',\n",
       " 'samples_label_26_93.png',\n",
       " 'samples_label_97_15.png',\n",
       " 'samples_label_85_10.png',\n",
       " 'samples_label_31_54.png',\n",
       " 'samples_label_5_30.png',\n",
       " 'samples_label_14_80.png',\n",
       " 'samples_label_40_38.png',\n",
       " 'samples_label_22_69.png',\n",
       " 'samples_label_48_35.png',\n",
       " 'samples_label_37_98.png',\n",
       " 'samples_label_69_59.png',\n",
       " 'samples_label_59_20.png',\n",
       " 'samples_label_80_83.png',\n",
       " 'samples_label_48_47.png',\n",
       " 'samples_label_84_56.png',\n",
       " 'samples_label_10_8.png',\n",
       " 'samples_label_26_2.png',\n",
       " 'samples_label_52_71.png',\n",
       " 'samples_label_26_95.png',\n",
       " 'samples_label_71_31.png',\n",
       " 'samples_label_94_47.png',\n",
       " 'samples_label_87_58.png',\n",
       " 'samples_label_45_6.png',\n",
       " 'samples_label_68_33.png',\n",
       " 'samples_label_50_71.png',\n",
       " 'samples_label_14_3.png',\n",
       " 'samples_label_9_96.png',\n",
       " 'samples_label_66_65.png',\n",
       " 'samples_label_46_29.png',\n",
       " 'samples_label_8_69.png',\n",
       " 'samples_label_98_97.png',\n",
       " 'samples_label_50_26.png',\n",
       " 'samples_label_84_76.png',\n",
       " 'samples_label_78_50.png',\n",
       " 'samples_label_55_14.png',\n",
       " 'samples_label_45_42.png',\n",
       " 'samples_label_5_5.png',\n",
       " 'samples_label_13_4.png',\n",
       " 'samples_label_41_53.png',\n",
       " 'samples_label_97_54.png',\n",
       " 'samples_label_81_44.png',\n",
       " 'samples_label_77_59.png',\n",
       " 'samples_label_16_0.png',\n",
       " 'samples_label_95_89.png',\n",
       " 'samples_label_28_33.png',\n",
       " 'samples_label_92_41.png',\n",
       " 'samples_label_2_2.png',\n",
       " 'samples_label_44_39.png',\n",
       " 'samples_label_85_70.png',\n",
       " 'samples_label_46_7.png',\n",
       " 'samples_label_93_27.png',\n",
       " 'samples_label_8_36.png',\n",
       " 'samples_label_49_0.png',\n",
       " 'samples_label_12_1.png',\n",
       " 'samples_label_95_6.png',\n",
       " 'samples_label_16_94.png',\n",
       " 'samples_label_60_5.png',\n",
       " 'samples_label_86_23.png',\n",
       " 'samples_label_5_20.png',\n",
       " 'samples_label_86_62.png',\n",
       " 'samples_label_31_49.png',\n",
       " 'samples_label_10_69.png',\n",
       " 'samples_label_85_78.png',\n",
       " 'samples_label_88_72.png',\n",
       " 'samples_label_23_14.png',\n",
       " 'samples_label_87_36.png',\n",
       " 'samples_label_42_85.png',\n",
       " 'samples_label_33_98.png',\n",
       " 'samples_label_8_82.png',\n",
       " 'samples_label_73_24.png',\n",
       " 'samples_label_19_80.png',\n",
       " 'samples_label_47_57.png',\n",
       " 'samples_label_90_59.png',\n",
       " 'samples_label_59_29.png',\n",
       " 'samples_label_3_11.png',\n",
       " 'samples_label_70_81.png',\n",
       " 'samples_label_87_28.png',\n",
       " 'samples_label_3_92.png',\n",
       " 'samples_label_26_52.png',\n",
       " 'samples_label_9_39.png',\n",
       " 'samples_label_61_21.png',\n",
       " 'samples_label_59_46.png',\n",
       " 'samples_label_98_18.png',\n",
       " 'samples_label_49_22.png',\n",
       " 'samples_label_95_80.png',\n",
       " 'samples_label_89_89.png',\n",
       " 'samples_label_48_60.png',\n",
       " 'samples_label_43_55.png',\n",
       " 'samples_label_2_4.png',\n",
       " 'samples_label_41_96.png',\n",
       " 'samples_label_47_52.png',\n",
       " 'samples_label_52_42.png',\n",
       " 'samples_label_53_67.png',\n",
       " 'samples_label_98_3.png',\n",
       " 'samples_label_24_92.png',\n",
       " 'samples_label_5_96.png',\n",
       " 'samples_label_57_60.png',\n",
       " 'samples_label_90_18.png',\n",
       " 'samples_label_94_13.png',\n",
       " 'samples_label_78_75.png',\n",
       " 'samples_label_41_9.png',\n",
       " 'samples_label_12_11.png',\n",
       " 'samples_label_33_19.png',\n",
       " 'samples_label_3_37.png',\n",
       " 'samples_label_35_25.png',\n",
       " 'samples_label_80_54.png',\n",
       " 'samples_label_32_23.png',\n",
       " 'samples_label_74_4.png',\n",
       " 'samples_label_57_40.png',\n",
       " 'samples_label_11_21.png',\n",
       " 'samples_label_6_25.png',\n",
       " 'samples_label_96_43.png',\n",
       " 'samples_label_89_77.png',\n",
       " 'samples_label_4_21.png',\n",
       " 'samples_label_48_37.png',\n",
       " 'samples_label_93_65.png',\n",
       " 'samples_label_83_72.png',\n",
       " 'samples_label_83_18.png',\n",
       " 'samples_label_38_57.png',\n",
       " 'samples_label_29_68.png',\n",
       " 'samples_label_33_16.png',\n",
       " 'samples_label_53_93.png',\n",
       " 'samples_label_88_19.png',\n",
       " 'samples_label_70_65.png',\n",
       " 'samples_label_75_69.png',\n",
       " 'samples_label_11_59.png',\n",
       " 'samples_label_5_1.png',\n",
       " 'samples_label_46_82.png',\n",
       " 'samples_label_60_60.png',\n",
       " 'samples_label_3_43.png',\n",
       " 'samples_label_14_62.png',\n",
       " 'samples_label_40_79.png',\n",
       " 'samples_label_32_10.png',\n",
       " 'samples_label_79_17.png',\n",
       " 'samples_label_4_87.png',\n",
       " 'samples_label_73_79.png',\n",
       " 'samples_label_89_69.png',\n",
       " 'samples_label_60_20.png',\n",
       " 'samples_label_16_60.png',\n",
       " 'samples_label_4_20.png',\n",
       " 'samples_label_84_71.png',\n",
       " 'samples_label_92_21.png',\n",
       " 'samples_label_39_9.png',\n",
       " 'samples_label_45_65.png',\n",
       " 'samples_label_8_56.png',\n",
       " 'samples_label_3_23.png',\n",
       " 'samples_label_19_98.png',\n",
       " 'samples_label_55_64.png',\n",
       " 'samples_label_68_58.png',\n",
       " 'samples_label_31_59.png',\n",
       " 'samples_label_74_69.png',\n",
       " 'samples_label_76_7.png',\n",
       " 'samples_label_81_95.png',\n",
       " 'samples_label_78_34.png',\n",
       " 'samples_label_2_54.png',\n",
       " 'samples_label_66_81.png',\n",
       " 'samples_label_68_52.png',\n",
       " 'samples_label_84_85.png',\n",
       " 'samples_label_91_2.png',\n",
       " 'samples_label_13_2.png',\n",
       " 'samples_label_67_54.png',\n",
       " 'samples_label_59_75.png',\n",
       " 'samples_label_10_65.png',\n",
       " 'samples_label_7_5.png',\n",
       " 'samples_label_41_49.png',\n",
       " 'samples_label_93_42.png',\n",
       " 'samples_label_85_13.png',\n",
       " 'samples_label_33_36.png',\n",
       " 'samples_label_45_91.png',\n",
       " 'samples_label_1_99.png',\n",
       " 'samples_label_42_49.png',\n",
       " 'samples_label_28_16.png',\n",
       " 'samples_label_84_77.png',\n",
       " 'samples_label_99_31.png',\n",
       " 'samples_label_29_4.png',\n",
       " 'samples_label_53_76.png',\n",
       " 'samples_label_20_13.png',\n",
       " 'samples_label_72_0.png',\n",
       " 'samples_label_96_33.png',\n",
       " 'samples_label_3_19.png',\n",
       " 'samples_label_78_35.png',\n",
       " 'samples_label_2_45.png',\n",
       " 'samples_label_90_26.png',\n",
       " 'samples_label_72_61.png',\n",
       " 'samples_label_9_60.png',\n",
       " 'samples_label_62_62.png',\n",
       " 'samples_label_6_42.png',\n",
       " 'samples_label_29_25.png',\n",
       " 'samples_label_69_44.png',\n",
       " 'samples_label_8_31.png',\n",
       " 'samples_label_42_70.png',\n",
       " 'samples_label_63_14.png',\n",
       " 'samples_label_36_49.png',\n",
       " 'samples_label_32_57.png',\n",
       " 'samples_label_20_68.png',\n",
       " 'samples_label_16_35.png',\n",
       " 'samples_label_50_48.png',\n",
       " 'samples_label_66_89.png',\n",
       " 'samples_label_31_79.png',\n",
       " 'samples_label_69_19.png',\n",
       " 'samples_label_10_79.png',\n",
       " 'samples_label_4_95.png',\n",
       " 'samples_label_22_83.png',\n",
       " 'samples_label_5_48.png',\n",
       " 'samples_label_35_47.png',\n",
       " 'samples_label_97_8.png',\n",
       " 'samples_label_7_77.png',\n",
       " 'samples_label_65_57.png',\n",
       " 'samples_label_66_1.png',\n",
       " 'samples_label_48_85.png',\n",
       " 'samples_label_0_30.png',\n",
       " 'samples_label_63_20.png',\n",
       " 'samples_label_8_45.png',\n",
       " 'samples_label_71_66.png',\n",
       " 'samples_label_5_22.png',\n",
       " 'samples_label_92_54.png',\n",
       " 'samples_label_6_24.png',\n",
       " 'samples_label_71_14.png',\n",
       " 'samples_label_22_90.png',\n",
       " 'samples_label_92_61.png',\n",
       " 'samples_label_87_31.png',\n",
       " 'samples_label_87_8.png',\n",
       " 'samples_label_22_43.png',\n",
       " 'samples_label_60_33.png',\n",
       " 'samples_label_86_50.png',\n",
       " 'samples_label_44_17.png',\n",
       " 'samples_label_92_67.png',\n",
       " 'samples_label_58_31.png',\n",
       " 'samples_label_76_3.png',\n",
       " 'samples_label_8_17.png',\n",
       " 'samples_label_32_22.png',\n",
       " 'samples_label_51_90.png',\n",
       " 'samples_label_63_96.png',\n",
       " 'samples_label_45_99.png',\n",
       " 'samples_label_74_8.png',\n",
       " 'samples_label_33_6.png',\n",
       " 'samples_label_72_79.png',\n",
       " 'samples_label_2_67.png',\n",
       " 'samples_label_41_30.png',\n",
       " 'samples_label_87_78.png',\n",
       " 'samples_label_11_80.png',\n",
       " 'samples_label_48_87.png',\n",
       " 'samples_label_82_19.png',\n",
       " 'samples_label_83_87.png',\n",
       " 'samples_label_68_35.png',\n",
       " 'samples_label_53_41.png',\n",
       " 'samples_label_56_47.png',\n",
       " 'samples_label_77_99.png',\n",
       " 'samples_label_0_46.png',\n",
       " 'samples_label_38_15.png',\n",
       " 'samples_label_39_86.png',\n",
       " 'samples_label_25_45.png',\n",
       " 'samples_label_54_4.png',\n",
       " 'samples_label_88_99.png',\n",
       " 'samples_label_20_96.png',\n",
       " 'samples_label_93_76.png',\n",
       " 'samples_label_38_49.png',\n",
       " 'samples_label_19_90.png',\n",
       " 'samples_label_17_92.png',\n",
       " 'samples_label_78_63.png',\n",
       " 'samples_label_25_92.png',\n",
       " 'samples_label_94_48.png',\n",
       " 'samples_label_91_21.png',\n",
       " 'samples_label_46_24.png',\n",
       " 'samples_label_12_29.png',\n",
       " 'samples_label_4_97.png',\n",
       " 'samples_label_60_86.png',\n",
       " 'samples_label_5_13.png',\n",
       " 'samples_label_14_78.png',\n",
       " 'samples_label_14_19.png',\n",
       " 'samples_label_12_79.png',\n",
       " 'samples_label_25_11.png',\n",
       " 'samples_label_13_59.png',\n",
       " 'samples_label_43_64.png',\n",
       " 'samples_label_57_20.png',\n",
       " 'samples_label_76_16.png',\n",
       " 'samples_label_72_11.png',\n",
       " 'samples_label_50_15.png',\n",
       " 'samples_label_98_44.png',\n",
       " 'samples_label_29_58.png',\n",
       " 'samples_label_10_81.png',\n",
       " 'samples_label_31_85.png',\n",
       " 'samples_label_4_72.png',\n",
       " 'samples_label_61_97.png',\n",
       " 'samples_label_61_98.png',\n",
       " 'samples_label_2_92.png',\n",
       " 'samples_label_62_72.png',\n",
       " 'samples_label_65_66.png',\n",
       " 'samples_label_48_63.png',\n",
       " 'samples_label_5_18.png',\n",
       " 'samples_label_69_91.png',\n",
       " 'samples_label_92_60.png',\n",
       " 'samples_label_65_97.png',\n",
       " 'samples_label_51_18.png',\n",
       " 'samples_label_69_21.png',\n",
       " 'samples_label_41_52.png',\n",
       " 'samples_label_99_32.png',\n",
       " 'samples_label_62_2.png',\n",
       " 'samples_label_94_16.png',\n",
       " 'samples_label_40_39.png',\n",
       " 'samples_label_16_67.png',\n",
       " 'samples_label_43_89.png',\n",
       " 'samples_label_49_70.png',\n",
       " 'samples_label_96_15.png',\n",
       " 'samples_label_79_47.png',\n",
       " 'samples_label_40_26.png',\n",
       " 'samples_label_68_72.png',\n",
       " 'samples_label_9_75.png',\n",
       " 'samples_label_93_44.png',\n",
       " 'samples_label_70_57.png',\n",
       " 'samples_label_23_91.png',\n",
       " 'samples_label_51_8.png',\n",
       " 'samples_label_86_39.png',\n",
       " 'samples_label_62_28.png',\n",
       " 'samples_label_14_86.png',\n",
       " 'samples_label_59_50.png',\n",
       " 'samples_label_48_15.png',\n",
       " 'samples_label_17_24.png',\n",
       " 'samples_label_17_58.png',\n",
       " 'samples_label_9_20.png',\n",
       " 'samples_label_64_78.png',\n",
       " 'samples_label_50_14.png',\n",
       " 'samples_label_82_46.png',\n",
       " 'samples_label_28_97.png',\n",
       " 'samples_label_96_83.png',\n",
       " 'samples_label_50_97.png',\n",
       " 'samples_label_0_32.png',\n",
       " 'samples_label_21_79.png',\n",
       " 'samples_label_73_14.png',\n",
       " 'samples_label_8_61.png',\n",
       " 'samples_label_24_53.png',\n",
       " 'samples_label_62_3.png',\n",
       " 'samples_label_66_63.png',\n",
       " 'samples_label_14_97.png',\n",
       " 'samples_label_18_67.png',\n",
       " 'samples_label_10_24.png',\n",
       " 'samples_label_65_26.png',\n",
       " 'samples_label_29_60.png',\n",
       " 'samples_label_88_90.png',\n",
       " 'samples_label_98_80.png',\n",
       " 'samples_label_4_7.png',\n",
       " 'samples_label_77_81.png',\n",
       " 'samples_label_57_1.png',\n",
       " 'samples_label_21_64.png',\n",
       " 'samples_label_14_41.png',\n",
       " 'samples_label_30_69.png',\n",
       " 'samples_label_83_60.png',\n",
       " 'samples_label_22_28.png',\n",
       " 'samples_label_81_14.png',\n",
       " 'samples_label_25_83.png',\n",
       " 'samples_label_92_92.png',\n",
       " 'samples_label_22_7.png',\n",
       " 'samples_label_9_32.png',\n",
       " 'samples_label_84_36.png',\n",
       " 'samples_label_75_88.png',\n",
       " 'samples_label_68_41.png',\n",
       " 'samples_label_38_55.png',\n",
       " 'samples_label_91_40.png',\n",
       " 'samples_label_76_76.png',\n",
       " 'samples_label_28_65.png',\n",
       " 'samples_label_20_32.png',\n",
       " 'samples_label_0_99.png',\n",
       " 'samples_label_96_72.png',\n",
       " 'samples_label_88_89.png',\n",
       " 'samples_label_7_9.png',\n",
       " 'samples_label_76_13.png',\n",
       " 'samples_label_11_69.png',\n",
       " 'samples_label_75_34.png',\n",
       " 'samples_label_99_97.png',\n",
       " 'samples_label_47_67.png',\n",
       " 'samples_label_7_56.png',\n",
       " 'samples_label_76_37.png',\n",
       " 'samples_label_52_67.png',\n",
       " 'samples_label_30_81.png',\n",
       " 'samples_label_70_80.png',\n",
       " 'samples_label_84_30.png',\n",
       " 'samples_label_30_31.png',\n",
       " 'samples_label_13_54.png',\n",
       " 'samples_label_12_71.png',\n",
       " 'samples_label_28_61.png',\n",
       " 'samples_label_81_91.png',\n",
       " 'samples_label_44_75.png',\n",
       " 'samples_label_84_60.png',\n",
       " 'samples_label_4_67.png',\n",
       " 'samples_label_53_64.png',\n",
       " 'samples_label_44_62.png',\n",
       " 'samples_label_3_9.png',\n",
       " 'samples_label_16_9.png',\n",
       " 'samples_label_72_59.png',\n",
       " 'samples_label_93_77.png',\n",
       " 'samples_label_75_14.png',\n",
       " 'samples_label_87_5.png',\n",
       " 'samples_label_73_28.png',\n",
       " 'samples_label_98_10.png',\n",
       " 'samples_label_20_49.png',\n",
       " 'samples_label_17_4.png',\n",
       " 'samples_label_96_89.png',\n",
       " 'samples_label_89_27.png',\n",
       " 'samples_label_33_38.png',\n",
       " 'samples_label_48_49.png',\n",
       " 'samples_label_60_34.png',\n",
       " 'samples_label_59_74.png',\n",
       " 'samples_label_5_24.png',\n",
       " 'samples_label_11_35.png',\n",
       " 'samples_label_39_57.png',\n",
       " 'samples_label_31_17.png',\n",
       " 'samples_label_49_88.png',\n",
       " 'samples_label_74_54.png',\n",
       " 'samples_label_70_29.png',\n",
       " 'samples_label_93_10.png',\n",
       " 'samples_label_54_70.png',\n",
       " 'samples_label_31_86.png',\n",
       " 'samples_label_14_74.png',\n",
       " 'samples_label_36_68.png',\n",
       " 'samples_label_32_8.png',\n",
       " 'samples_label_73_91.png',\n",
       " 'samples_label_65_90.png',\n",
       " 'samples_label_14_60.png',\n",
       " 'samples_label_50_84.png',\n",
       " 'samples_label_16_7.png',\n",
       " 'samples_label_24_93.png',\n",
       " 'samples_label_63_93.png',\n",
       " 'samples_label_36_7.png',\n",
       " 'samples_label_71_93.png',\n",
       " 'samples_label_67_12.png',\n",
       " 'samples_label_51_31.png',\n",
       " 'samples_label_68_80.png',\n",
       " 'samples_label_46_84.png',\n",
       " 'samples_label_77_80.png',\n",
       " 'samples_label_61_71.png',\n",
       " 'samples_label_45_97.png',\n",
       " 'samples_label_42_28.png',\n",
       " 'samples_label_62_38.png',\n",
       " 'samples_label_13_94.png',\n",
       " 'samples_label_45_75.png',\n",
       " 'samples_label_7_18.png',\n",
       " 'samples_label_46_41.png',\n",
       " 'samples_label_93_78.png',\n",
       " 'samples_label_60_49.png',\n",
       " 'samples_label_81_93.png',\n",
       " 'samples_label_21_59.png',\n",
       " 'samples_label_58_25.png',\n",
       " 'samples_label_42_7.png',\n",
       " 'samples_label_8_51.png',\n",
       " 'samples_label_14_29.png',\n",
       " 'samples_label_64_88.png',\n",
       " 'samples_label_17_18.png',\n",
       " 'samples_label_2_71.png',\n",
       " 'samples_label_65_78.png',\n",
       " 'samples_label_51_89.png',\n",
       " 'samples_label_79_59.png',\n",
       " 'samples_label_76_41.png',\n",
       " 'samples_label_30_96.png',\n",
       " 'samples_label_73_6.png',\n",
       " 'samples_label_91_43.png',\n",
       " 'samples_label_9_22.png',\n",
       " 'samples_label_25_12.png',\n",
       " 'samples_label_76_95.png',\n",
       " 'samples_label_4_82.png',\n",
       " 'samples_label_83_50.png',\n",
       " 'samples_label_71_99.png',\n",
       " 'samples_label_64_98.png',\n",
       " 'samples_label_55_26.png',\n",
       " 'samples_label_75_71.png',\n",
       " 'samples_label_84_8.png',\n",
       " 'samples_label_55_66.png',\n",
       " 'samples_label_34_7.png',\n",
       " 'samples_label_78_37.png',\n",
       " 'samples_label_40_0.png',\n",
       " 'samples_label_78_68.png',\n",
       " 'samples_label_59_22.png',\n",
       " 'samples_label_51_71.png',\n",
       " 'samples_label_9_86.png',\n",
       " 'samples_label_0_70.png',\n",
       " 'samples_label_14_56.png',\n",
       " 'samples_label_72_57.png',\n",
       " 'samples_label_67_69.png',\n",
       " ...]"
      ]
     },
     "execution_count": 11,
     "metadata": {},
     "output_type": "execute_result"
    }
   ],
   "source": [
    "os.listdir(test_folder)"
   ]
  },
  {
   "cell_type": "code",
   "execution_count": 8,
   "id": "38ae7ef9",
   "metadata": {},
   "outputs": [
    {
     "name": "stdout",
     "output_type": "stream",
     "text": [
      "10000\n",
      "/data/lijingru/EBKD/save/student_model/resnet28x10_T:resnet32x4_S:resnet8x4_cifar100_lr_1e-05_decay_0.0_buffer_size_10000_lpx_1.0_lpxy_0.0_energy_mode_mcmc_step_size_1.0_trial_1_st_random_cls_mode_cls_k_10/img_sample_eval/\n"
     ]
    },
    {
     "name": "stderr",
     "output_type": "stream",
     "text": [
      "100%|██████████| 100/100 [00:03<00:00, 31.40it/s]"
     ]
    },
    {
     "name": "stdout",
     "output_type": "stream",
     "text": [
      "Successfully saving the generated result of replay buffer.\n"
     ]
    },
    {
     "name": "stderr",
     "output_type": "stream",
     "text": [
      "\n"
     ]
    }
   ],
   "source": [
    "print(len(os.listdir(test_folder)))\n",
    "print(test_folder)\n",
    "optd = Options(save_grid=True)\n",
    "cond_samples(model, replay_buffer, device, optd)"
   ]
  },
  {
   "cell_type": "markdown",
   "id": "55c605f3",
   "metadata": {},
   "source": [
    "### t-SNE visualization"
   ]
  },
  {
   "cell_type": "markdown",
   "id": "83bc4c7b",
   "metadata": {},
   "source": [
    "## Set options, datasets and dataloaders"
   ]
  },
  {
   "cell_type": "code",
   "execution_count": 9,
   "id": "32c77f5c",
   "metadata": {},
   "outputs": [
    {
     "name": "stdout",
     "output_type": "stream",
     "text": [
      "Files already downloaded and verified\n"
     ]
    }
   ],
   "source": [
    "from datasets.cifar100 import CIFAR100Gen, CIFAR100Instance\n",
    "from torch.utils.data import DataLoader, Dataset\n",
    "from torchvision import datasets, transforms\n",
    "from PIL import Image\n",
    "\n",
    "test_folder = '/data/lijingru/cifar100/'\n",
    "test_gen_folder = '/data/lijingru/img_sample_eval/'\n",
    "\n",
    "\n",
    "test_list = [\n",
    "    transforms.ToTensor(),\n",
    "    transforms.Normalize((0.5, 0.5, 0.5), (0.5, 0.5, 0.5))\n",
    "]\n",
    "\n",
    "\n",
    "# train_transform = transforms.Compose(train_list)\n",
    "test_transform = transforms.Compose(test_list)\n",
    "test_positive_set = CIFAR100Instance(root=test_folder, download=True, train=False, transform=test_transform)\n",
    "test_negative_set = CIFAR100Gen(root=opt.save_dir, transform=test_transform, return_target=True)\n",
    "\n",
    "test_p_loader = DataLoader(dataset=test_positive_set, batch_size=1, shuffle=False, num_workers=8)\n",
    "test_n_loader = DataLoader(dataset=test_negative_set, batch_size=1, shuffle=False, num_workers=8)"
   ]
  },
  {
   "cell_type": "code",
   "execution_count": 10,
   "id": "60efeb58",
   "metadata": {},
   "outputs": [
    {
     "name": "stderr",
     "output_type": "stream",
     "text": [
      "10000it [02:16, 73.18it/s]"
     ]
    },
    {
     "name": "stdout",
     "output_type": "stream",
     "text": [
      "Positive Samples:\n",
      "Max: 8.8758\n",
      "Min: -15.2054\n",
      "Mean: 0.8850\n",
      "Acc: 0.6818\n"
     ]
    },
    {
     "name": "stderr",
     "output_type": "stream",
     "text": [
      "\n",
      "10000it [01:17, 129.78it/s]"
     ]
    },
    {
     "name": "stdout",
     "output_type": "stream",
     "text": [
      "Negative Samples:\n",
      "Max: 9.1378\n",
      "Min: -10.0493\n",
      "Mean: 2.1150\n"
     ]
    },
    {
     "name": "stderr",
     "output_type": "stream",
     "text": [
      "\n"
     ]
    }
   ],
   "source": [
    "import tqdm\n",
    "model.eval()\n",
    "p_energys = []\n",
    "q_energys = []\n",
    "correct = 0\n",
    "p_predict = []\n",
    "for idx, data in tqdm.tqdm(enumerate(test_p_loader)):\n",
    "    x, y, i = data\n",
    "    x = x.to(device)\n",
    "    y = y.to(device)\n",
    "    logit = model(x=x, cls_mode=True)\n",
    "    indexs = torch.argmax(logit, 1)\n",
    "    p_predict += indexs.tolist()\n",
    "    b_correct = torch.sum(indexs == y).item()\n",
    "    correct += b_correct\n",
    "    f = torch.gather(logit, 1, y[:, None]).mean()\n",
    "    \n",
    "    f = model(x=x, y=y)[0].mean()\n",
    "    p_energys.append(f.item())\n",
    "    \n",
    "print('Positive Samples:')\n",
    "print('Max: {:.4f}'.format(max(p_energys)))\n",
    "print('Min: {:.4f}'.format(min(p_energys)))\n",
    "print('Mean: {:.4f}'.format(sum(p_energys) / len(p_energys)))\n",
    "print('Acc: {:.4f}'.format(correct / len(test_p_loader)))\n",
    "\n",
    "for idx, data in tqdm.tqdm(enumerate(test_n_loader)):\n",
    "    x, y, i = data\n",
    "    x = x.to(device)\n",
    "    y = y.to(device)\n",
    "    \n",
    "    f = model(x=x, y=y)[0].mean()\n",
    "    q_energys.append(f.item())\n",
    "    \n",
    "\n",
    "\n",
    "print('Negative Samples:')\n",
    "print('Max: {:.4f}'.format(max(q_energys)))\n",
    "print('Min: {:.4f}'.format(min(q_energys)))\n",
    "print('Mean: {:.4f}'.format(sum(q_energys) / len(q_energys)))"
   ]
  },
  {
   "cell_type": "code",
   "execution_count": 11,
   "id": "9b46eef6",
   "metadata": {},
   "outputs": [],
   "source": [
    "np.save(os.path.join(opt.save_folder, 'pxy_energy.npy'), np.asarray(p_energys))\n",
    "np.save(os.path.join(opt.save_folder, 'qxy_energy.npy'), np.asarray(q_energys))"
   ]
  },
  {
   "cell_type": "markdown",
   "id": "06497913",
   "metadata": {},
   "source": [
    "## Plot the distribution of energy function\n",
    "$x^+ \\sim p_{data}$, and $x^- \\sim q_{\\theta}$. If the EBM is well-trained, the plotted distribution should be close enough.\n",
    "\n",
    "Here presented the distribution of conditional generation $p_{\\theta}(x | y)$."
   ]
  },
  {
   "cell_type": "code",
   "execution_count": 12,
   "id": "8980dc6f",
   "metadata": {},
   "outputs": [
    {
     "data": {
      "text/plain": [
       "<AxesSubplot:ylabel='Density'>"
      ]
     },
     "execution_count": 12,
     "metadata": {},
     "output_type": "execute_result"
    },
    {
     "data": {
      "image/png": "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\n",
      "text/plain": [
       "<Figure size 432x288 with 1 Axes>"
      ]
     },
     "metadata": {
      "needs_background": "light"
     },
     "output_type": "display_data"
    }
   ],
   "source": [
    "sns.kdeplot(data={'p':p_energys, 'q':q_energys}, clip=(-5, 5), fill=True)"
   ]
  },
  {
   "cell_type": "code",
   "execution_count": 13,
   "id": "622bc9e3",
   "metadata": {},
   "outputs": [
    {
     "data": {
      "text/plain": [
       "<seaborn.axisgrid.FacetGrid at 0x7fc2bcee9850>"
      ]
     },
     "execution_count": 13,
     "metadata": {},
     "output_type": "execute_result"
    },
    {
     "data": {
      "image/png": "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\n",
      "text/plain": [
       "<Figure size 360x360 with 1 Axes>"
      ]
     },
     "metadata": {
      "needs_background": "light"
     },
     "output_type": "display_data"
    }
   ],
   "source": [
    "sns.displot(x=p_energys, kde=True, rug=True)"
   ]
  },
  {
   "cell_type": "code",
   "execution_count": 14,
   "id": "d4cd7981",
   "metadata": {},
   "outputs": [
    {
     "data": {
      "text/plain": [
       "<seaborn.axisgrid.FacetGrid at 0x7fc2a81cdb80>"
      ]
     },
     "execution_count": 14,
     "metadata": {},
     "output_type": "execute_result"
    },
    {
     "data": {
      "image/png": "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\n",
      "text/plain": [
       "<Figure size 360x360 with 1 Axes>"
      ]
     },
     "metadata": {
      "needs_background": "light"
     },
     "output_type": "display_data"
    }
   ],
   "source": [
    "sns.displot(x=q_energys, color='orange', rug=True, kde=True)"
   ]
  },
  {
   "cell_type": "code",
   "execution_count": 15,
   "id": "398b7ff9",
   "metadata": {},
   "outputs": [
    {
     "data": {
      "text/plain": [
       "<seaborn.axisgrid.FacetGrid at 0x7fc2bce610a0>"
      ]
     },
     "execution_count": 15,
     "metadata": {},
     "output_type": "execute_result"
    },
    {
     "data": {
      "image/png": "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\n",
      "text/plain": [
       "<Figure size 360x360 with 1 Axes>"
      ]
     },
     "metadata": {
      "needs_background": "light"
     },
     "output_type": "display_data"
    }
   ],
   "source": [
    "sns.displot(x=p_predict)"
   ]
  },
  {
   "cell_type": "markdown",
   "id": "aee2d9b7",
   "metadata": {},
   "source": [
    "## Unconditional energy distribution\n",
    "Considering the distribution of unconditional generation $p_{\\theta}(x)$."
   ]
  },
  {
   "cell_type": "code",
   "execution_count": 16,
   "id": "63f91298",
   "metadata": {},
   "outputs": [
    {
     "name": "stderr",
     "output_type": "stream",
     "text": [
      "10000it [01:18, 127.25it/s]"
     ]
    },
    {
     "name": "stdout",
     "output_type": "stream",
     "text": [
      "Positive Samples:\n",
      "Max: 8.8759\n",
      "Min: -10.3981\n",
      "Mean: 2.0606\n"
     ]
    },
    {
     "name": "stderr",
     "output_type": "stream",
     "text": [
      "\n",
      "10000it [01:18, 127.34it/s]"
     ]
    },
    {
     "name": "stdout",
     "output_type": "stream",
     "text": [
      "Negative Samples:\n",
      "Max: 9.1379\n",
      "Min: -8.6306\n",
      "Mean: 2.3224\n"
     ]
    },
    {
     "name": "stderr",
     "output_type": "stream",
     "text": [
      "\n"
     ]
    }
   ],
   "source": [
    "model.eval()\n",
    "p_energys = []\n",
    "q_energys = []\n",
    "for idx, data in tqdm.tqdm(enumerate(test_p_loader)):\n",
    "    x, y, i = data\n",
    "    x = x.to(device)\n",
    "    y = y.to(device)\n",
    "    \n",
    "    f = model(x=x)[0].mean()\n",
    "    p_energys.append(f.item())\n",
    "    \n",
    "print('Positive Samples:')\n",
    "print('Max: {:.4f}'.format(max(p_energys)))\n",
    "print('Min: {:.4f}'.format(min(p_energys)))\n",
    "print('Mean: {:.4f}'.format(sum(p_energys) / len(p_energys)))\n",
    "\n",
    "for idx, data in tqdm.tqdm(enumerate(test_n_loader)):\n",
    "    x, y, i = data\n",
    "    x = x.to(device)\n",
    "    y = y.to(device)\n",
    "    \n",
    "    f = model(x=x)[0].mean()\n",
    "    q_energys.append(f.item())\n",
    "    \n",
    "\n",
    "\n",
    "print('Negative Samples:')\n",
    "print('Max: {:.4f}'.format(max(q_energys)))\n",
    "print('Min: {:.4f}'.format(min(q_energys)))\n",
    "print('Mean: {:.4f}'.format(sum(q_energys) / len(q_energys)))"
   ]
  },
  {
   "cell_type": "code",
   "execution_count": 17,
   "id": "0f542a42",
   "metadata": {},
   "outputs": [],
   "source": [
    "np.save(os.path.join(opt.save_folder, 'px_energy.npy'), np.asarray(p_energys))\n",
    "np.save(os.path.join(opt.save_folder, 'qx_energy.npy'), np.asarray(q_energys))"
   ]
  },
  {
   "cell_type": "code",
   "execution_count": 18,
   "id": "abe63925",
   "metadata": {},
   "outputs": [
    {
     "data": {
      "text/plain": [
       "<AxesSubplot:ylabel='Density'>"
      ]
     },
     "execution_count": 18,
     "metadata": {},
     "output_type": "execute_result"
    },
    {
     "data": {
      "image/png": "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\n",
      "text/plain": [
       "<Figure size 432x288 with 1 Axes>"
      ]
     },
     "metadata": {
      "needs_background": "light"
     },
     "output_type": "display_data"
    }
   ],
   "source": [
    "sns.kdeplot(data={'p':p_energys, 'q':q_energys}, clip=(-5, 10), fill=True)"
   ]
  },
  {
   "cell_type": "code",
   "execution_count": 19,
   "id": "e166a5c1",
   "metadata": {},
   "outputs": [
    {
     "data": {
      "text/plain": [
       "<seaborn.axisgrid.FacetGrid at 0x7fc255fb5970>"
      ]
     },
     "execution_count": 19,
     "metadata": {},
     "output_type": "execute_result"
    },
    {
     "data": {
      "image/png": "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\n",
      "text/plain": [
       "<Figure size 360x360 with 1 Axes>"
      ]
     },
     "metadata": {
      "needs_background": "light"
     },
     "output_type": "display_data"
    }
   ],
   "source": [
    "sns.displot(x=p_energys, kde=True, rug=True)"
   ]
  },
  {
   "cell_type": "code",
   "execution_count": 20,
   "id": "50336fc4",
   "metadata": {},
   "outputs": [
    {
     "data": {
      "text/plain": [
       "<seaborn.axisgrid.FacetGrid at 0x7fc2bcbddc10>"
      ]
     },
     "execution_count": 20,
     "metadata": {},
     "output_type": "execute_result"
    },
    {
     "data": {
      "image/png": "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\n",
      "text/plain": [
       "<Figure size 360x360 with 1 Axes>"
      ]
     },
     "metadata": {
      "needs_background": "light"
     },
     "output_type": "display_data"
    }
   ],
   "source": [
    "sns.displot(x=q_energys, color='orange', rug=True, kde=True)"
   ]
  },
  {
   "cell_type": "code",
   "execution_count": 21,
   "id": "d0877a32",
   "metadata": {},
   "outputs": [],
   "source": [
    "f = open(os.path.join(opt.save_folder, 'best.txt'), 'w')\n",
    "f.write('best_result:{:.4f} +- {:.4f}'.format(mean, var))\n",
    "f.close()"
   ]
  },
  {
   "cell_type": "code",
   "execution_count": null,
   "id": "b18b4eba",
   "metadata": {},
   "outputs": [],
   "source": []
  }
 ],
 "metadata": {
  "kernelspec": {
   "display_name": "Python 3",
   "language": "python",
   "name": "python3"
  },
  "language_info": {
   "codemirror_mode": {
    "name": "ipython",
    "version": 3
   },
   "file_extension": ".py",
   "mimetype": "text/x-python",
   "name": "python",
   "nbconvert_exporter": "python",
   "pygments_lexer": "ipython3",
   "version": "3.8.8"
  }
 },
 "nbformat": 4,
 "nbformat_minor": 5
}
