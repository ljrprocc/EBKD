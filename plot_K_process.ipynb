{
 "cells": [
  {
   "cell_type": "code",
   "execution_count": 1,
   "id": "3589dd8c",
   "metadata": {},
   "outputs": [],
   "source": [
    "import seaborn as sns\n",
    "import torch\n",
    "import numpy as np"
   ]
  },
  {
   "cell_type": "markdown",
   "id": "1ca6fbaa",
   "metadata": {},
   "source": [
    "### Choose the root of KD\n",
    "balabala"
   ]
  },
  {
   "cell_type": "code",
   "execution_count": 2,
   "id": "9fb33af1",
   "metadata": {},
   "outputs": [
    {
     "name": "stdout",
     "output_type": "stream",
     "text": [
      "S:resnet8x4_T:resnet32x4_cifar100_kd_r:0.4_a:0.6_b:0.0_0_df_10000\r\n",
      "S:resnet8x4_T:resnet32x4_cifar100_kd_r:0.4_a:0.6_b:0.0_0_k_1\r\n",
      "S:resnet8x4_T:resnet32x4_cifar100_kd_r:0.4_a:0.6_b:0.0_0_k_10_all\r\n",
      "S:resnet8x4_T:resnet32x4_cifar100_kd_r:0.4_a:0.6_b:0.0_0_k_10_xy\r\n",
      "S:resnet8x4_T:resnet32x4_cifar100_kd_r:0.4_a:0.6_b:0.0_0_k_3\r\n",
      "S:resnet8x4_T:resnet32x4_cifar100_kd_r:0.4_a:0.6_b:0.0_0_k_5\r\n",
      "S:resnet8x4_T:resnet32x4_cifar100_kd_r:0.4_a:0.6_b:0.0_0_k_5_False\r\n",
      "S:resnet8x4_T:resnet32x4_cifar100_kd_r:0.4_a:0.6_b:0.0_0_k_5_random\r\n",
      "S:resnet8x4_T:resnet32x4_cifar100_kd_r:0.4_a:0.6_b:0.0_0_k_5_st_0\r\n",
      "S:resnet8x4_T:resnet32x4_cifar100_kd_r:0.4_a:0.6_b:0.0_0_k_5_st_5\r\n",
      "S:resnet8x4_T:resnet32x4_cifar100_kd_r:0.4_a:0.6_b:0.0_0_k_7\r\n",
      "S:resnet8x4_T:resnet32x4_cifar100_kd_r:0.4_a:0.6_b:0.0_1_df_10000\r\n",
      "S:resnet8x4_T:resnet32x4_cifar100_kd_r:0.4_a:0.6_b:0.0_1_k_1\r\n",
      "S:resnet8x4_T:resnet32x4_cifar100_kd_r:0.4_a:0.6_b:0.0_1_k_10_all\r\n",
      "S:resnet8x4_T:resnet32x4_cifar100_kd_r:0.4_a:0.6_b:0.0_1_k_10_xy\r\n",
      "S:resnet8x4_T:resnet32x4_cifar100_kd_r:0.4_a:0.6_b:0.0_1_k_3\r\n",
      "S:resnet8x4_T:resnet32x4_cifar100_kd_r:0.4_a:0.6_b:0.0_1_k_5\r\n",
      "S:resnet8x4_T:resnet32x4_cifar100_kd_r:0.4_a:0.6_b:0.0_1_k_5_False\r\n",
      "S:resnet8x4_T:resnet32x4_cifar100_kd_r:0.4_a:0.6_b:0.0_1_k_5_random\r\n",
      "S:resnet8x4_T:resnet32x4_cifar100_kd_r:0.4_a:0.6_b:0.0_1_k_5_st_0\r\n",
      "S:resnet8x4_T:resnet32x4_cifar100_kd_r:0.4_a:0.6_b:0.0_1_k_5_st_5\r\n",
      "S:resnet8x4_T:resnet32x4_cifar100_kd_r:0.4_a:0.6_b:0.0_1_k_7\r\n",
      "S:resnet8x4_T:resnet32x4_cifar100_kd_r:0.4_a:0.6_b:0.0_2_df_10000\r\n",
      "S:resnet8x4_T:resnet32x4_cifar100_kd_r:0.4_a:0.6_b:0.0_2_k_1\r\n",
      "S:resnet8x4_T:resnet32x4_cifar100_kd_r:0.4_a:0.6_b:0.0_2_k_10_all\r\n",
      "S:resnet8x4_T:resnet32x4_cifar100_kd_r:0.4_a:0.6_b:0.0_2_k_10_xy\r\n",
      "S:resnet8x4_T:resnet32x4_cifar100_kd_r:0.4_a:0.6_b:0.0_2_k_3\r\n",
      "S:resnet8x4_T:resnet32x4_cifar100_kd_r:0.4_a:0.6_b:0.0_2_k_5\r\n",
      "S:resnet8x4_T:resnet32x4_cifar100_kd_r:0.4_a:0.6_b:0.0_2_k_5_False\r\n",
      "S:resnet8x4_T:resnet32x4_cifar100_kd_r:0.4_a:0.6_b:0.0_2_k_5_random\r\n",
      "S:resnet8x4_T:resnet32x4_cifar100_kd_r:0.4_a:0.6_b:0.0_2_k_5_st_0\r\n",
      "S:resnet8x4_T:resnet32x4_cifar100_kd_r:0.4_a:0.6_b:0.0_2_k_5_st_5\r\n",
      "S:resnet8x4_T:resnet32x4_cifar100_kd_r:0.4_a:0.6_b:0.0_2_k_7\r\n",
      "S:resnet8x4_T:resnet32x4_cifar100_kd_r:0.4_a:0.6_b:0.0_3_df_10000\r\n",
      "S:resnet8x4_T:resnet32x4_cifar100_kd_r:0.4_a:0.6_b:0.0_3_k_1\r\n",
      "S:resnet8x4_T:resnet32x4_cifar100_kd_r:0.4_a:0.6_b:0.0_3_k_10_all\r\n",
      "S:resnet8x4_T:resnet32x4_cifar100_kd_r:0.4_a:0.6_b:0.0_3_k_10_xy\r\n",
      "S:resnet8x4_T:resnet32x4_cifar100_kd_r:0.4_a:0.6_b:0.0_3_k_3\r\n",
      "S:resnet8x4_T:resnet32x4_cifar100_kd_r:0.4_a:0.6_b:0.0_3_k_5\r\n",
      "S:resnet8x4_T:resnet32x4_cifar100_kd_r:0.4_a:0.6_b:0.0_3_k_5_False\r\n",
      "S:resnet8x4_T:resnet32x4_cifar100_kd_r:0.4_a:0.6_b:0.0_3_k_5_random\r\n",
      "S:resnet8x4_T:resnet32x4_cifar100_kd_r:0.4_a:0.6_b:0.0_3_k_5_st_0\r\n",
      "S:resnet8x4_T:resnet32x4_cifar100_kd_r:0.4_a:0.6_b:0.0_3_k_5_st_5\r\n",
      "S:resnet8x4_T:resnet32x4_cifar100_kd_r:0.4_a:0.6_b:0.0_3_k_7\r\n",
      "S:resnet8x4_T:resnet32x4_cifar100_kd_r:0.4_a:0.6_b:0.0_4_df_10000\r\n",
      "S:resnet8x4_T:resnet32x4_cifar100_kd_r:0.4_a:0.6_b:0.0_4_k_1\r\n",
      "S:resnet8x4_T:resnet32x4_cifar100_kd_r:0.4_a:0.6_b:0.0_4_k_10_xy\r\n",
      "S:resnet8x4_T:resnet32x4_cifar100_kd_r:0.4_a:0.6_b:0.0_4_k_3\r\n",
      "S:resnet8x4_T:resnet32x4_cifar100_kd_r:0.4_a:0.6_b:0.0_4_k_5\r\n",
      "S:resnet8x4_T:resnet32x4_cifar100_kd_r:0.4_a:0.6_b:0.0_4_k_5_False\r\n",
      "S:resnet8x4_T:resnet32x4_cifar100_kd_r:0.4_a:0.6_b:0.0_4_k_5_random\r\n",
      "S:resnet8x4_T:resnet32x4_cifar100_kd_r:0.4_a:0.6_b:0.0_4_k_5_st_0\r\n",
      "S:resnet8x4_T:resnet32x4_cifar100_kd_r:0.4_a:0.6_b:0.0_4_k_5_st_5\r\n",
      "S:resnet8x4_T:resnet32x4_cifar100_kd_r:0.4_a:0.6_b:0.0_4_k_7\r\n",
      "S:resnet8x4_T:resnet32x4_cifar100_kd_r:0.4_a:0.6_b:0.0_5_df_10000\r\n",
      "S:resnet8x4_T:resnet32x4_cifar100_kd_r:0.4_a:0.6_b:0.0_5_k_1\r\n",
      "S:resnet8x4_T:resnet32x4_cifar100_kd_r:0.4_a:0.6_b:0.0_5_k_10_xy\r\n",
      "S:resnet8x4_T:resnet32x4_cifar100_kd_r:0.4_a:0.6_b:0.0_5_k_3\r\n",
      "S:resnet8x4_T:resnet32x4_cifar100_kd_r:0.4_a:0.6_b:0.0_5_k_5\r\n",
      "S:resnet8x4_T:resnet32x4_cifar100_kd_r:0.4_a:0.6_b:0.0_5_k_5_False\r\n",
      "S:resnet8x4_T:resnet32x4_cifar100_kd_r:0.4_a:0.6_b:0.0_5_k_5_random\r\n",
      "S:resnet8x4_T:resnet32x4_cifar100_kd_r:0.4_a:0.6_b:0.0_5_k_5_st_0\r\n",
      "S:resnet8x4_T:resnet32x4_cifar100_kd_r:0.4_a:0.6_b:0.0_5_k_5_st_5\r\n",
      "S:resnet8x4_T:resnet32x4_cifar100_kd_r:0.4_a:0.6_b:0.0_5_k_7\r\n",
      "S:resnet8x4_T:resnet32x4_cifar100_kd_r:0.4_a:0.6_b:0.0_6_df_10000\r\n",
      "S:resnet8x4_T:resnet32x4_cifar100_kd_r:0.4_a:0.6_b:0.0_6_k_1\r\n",
      "S:resnet8x4_T:resnet32x4_cifar100_kd_r:0.4_a:0.6_b:0.0_6_k_10_xy\r\n",
      "S:resnet8x4_T:resnet32x4_cifar100_kd_r:0.4_a:0.6_b:0.0_6_k_3\r\n",
      "S:resnet8x4_T:resnet32x4_cifar100_kd_r:0.4_a:0.6_b:0.0_6_k_5\r\n",
      "S:resnet8x4_T:resnet32x4_cifar100_kd_r:0.4_a:0.6_b:0.0_6_k_5_False\r\n",
      "S:resnet8x4_T:resnet32x4_cifar100_kd_r:0.4_a:0.6_b:0.0_6_k_5_random\r\n",
      "S:resnet8x4_T:resnet32x4_cifar100_kd_r:0.4_a:0.6_b:0.0_6_k_5_st_0\r\n",
      "S:resnet8x4_T:resnet32x4_cifar100_kd_r:0.4_a:0.6_b:0.0_6_k_5_st_5\r\n",
      "S:resnet8x4_T:resnet32x4_cifar100_kd_r:0.4_a:0.6_b:0.0_6_k_7\r\n",
      "S:resnet8x4_T:resnet32x4_cifar100_kd_r:0.4_a:0.6_b:0.0_7_df_10000\r\n",
      "S:resnet8x4_T:resnet32x4_cifar100_kd_r:0.4_a:0.6_b:0.0_7_k_1\r\n",
      "S:resnet8x4_T:resnet32x4_cifar100_kd_r:0.4_a:0.6_b:0.0_7_k_10_xy\r\n",
      "S:resnet8x4_T:resnet32x4_cifar100_kd_r:0.4_a:0.6_b:0.0_7_k_3\r\n",
      "S:resnet8x4_T:resnet32x4_cifar100_kd_r:0.4_a:0.6_b:0.0_7_k_5\r\n",
      "S:resnet8x4_T:resnet32x4_cifar100_kd_r:0.4_a:0.6_b:0.0_7_k_5_False\r\n",
      "S:resnet8x4_T:resnet32x4_cifar100_kd_r:0.4_a:0.6_b:0.0_7_k_5_random\r\n",
      "S:resnet8x4_T:resnet32x4_cifar100_kd_r:0.4_a:0.6_b:0.0_7_k_5_st_0\r\n",
      "S:resnet8x4_T:resnet32x4_cifar100_kd_r:0.4_a:0.6_b:0.0_7_k_5_st_5\r\n",
      "S:resnet8x4_T:resnet32x4_cifar100_kd_r:0.4_a:0.6_b:0.0_7_k_7\r\n",
      "S:resnet8x4_T:resnet32x4_cifar100_kd_r:0.4_a:0.6_b:0.0_8_df_10000\r\n",
      "S:resnet8x4_T:resnet32x4_cifar100_kd_r:0.4_a:0.6_b:0.0_8_k_1\r\n",
      "S:resnet8x4_T:resnet32x4_cifar100_kd_r:0.4_a:0.6_b:0.0_8_k_10_xy\r\n",
      "S:resnet8x4_T:resnet32x4_cifar100_kd_r:0.4_a:0.6_b:0.0_8_k_3\r\n",
      "S:resnet8x4_T:resnet32x4_cifar100_kd_r:0.4_a:0.6_b:0.0_8_k_5\r\n",
      "S:resnet8x4_T:resnet32x4_cifar100_kd_r:0.4_a:0.6_b:0.0_8_k_5_False\r\n",
      "S:resnet8x4_T:resnet32x4_cifar100_kd_r:0.4_a:0.6_b:0.0_8_k_5_random\r\n",
      "S:resnet8x4_T:resnet32x4_cifar100_kd_r:0.4_a:0.6_b:0.0_8_k_5_st_0\r\n",
      "S:resnet8x4_T:resnet32x4_cifar100_kd_r:0.4_a:0.6_b:0.0_8_k_5_st_5\r\n",
      "S:resnet8x4_T:resnet32x4_cifar100_kd_r:0.4_a:0.6_b:0.0_8_k_7\r\n",
      "S:resnet8x4_T:resnet32x4_cifar100_kd_r:0.4_a:0.6_b:0.0_9_df_10000\r\n",
      "S:resnet8x4_T:resnet32x4_cifar100_kd_r:0.4_a:0.6_b:0.0_9_k_1\r\n",
      "S:resnet8x4_T:resnet32x4_cifar100_kd_r:0.4_a:0.6_b:0.0_9_k_10_xy\r\n",
      "S:resnet8x4_T:resnet32x4_cifar100_kd_r:0.4_a:0.6_b:0.0_9_k_3\r\n",
      "S:resnet8x4_T:resnet32x4_cifar100_kd_r:0.4_a:0.6_b:0.0_9_k_5\r\n",
      "S:resnet8x4_T:resnet32x4_cifar100_kd_r:0.4_a:0.6_b:0.0_9_k_5_False\r\n",
      "S:resnet8x4_T:resnet32x4_cifar100_kd_r:0.4_a:0.6_b:0.0_9_k_5_random\r\n",
      "S:resnet8x4_T:resnet32x4_cifar100_kd_r:0.4_a:0.6_b:0.0_9_k_5_st_0\r\n",
      "S:resnet8x4_T:resnet32x4_cifar100_kd_r:0.4_a:0.6_b:0.0_9_k_5_st_5\r\n",
      "S:resnet8x4_T:resnet32x4_cifar100_kd_r:0.4_a:0.6_b:0.0_9_k_7\r\n",
      "S:resnet8x4_T:resnet32x4_cifar100_kd_r:0.4_a:0.6_b:0.0__k_7_xy0\r\n",
      "S:resnet8x4_T:resnet32x4_cifar100_kd_r:0.5_a:0.5_b:0.0_0_df_10000\r\n",
      "S:resnet8x4_T:resnet32x4_svhn_kd_r:0.4_a:0.6_b:0.0_0_k_10\r\n",
      "S:resnet8x4_T:resnet32x4_svhn_kd_r:0.4_a:0.6_b:0.0_1_k_10\r\n",
      "S:resnet8x4_T:resnet32x4_svhn_kd_r:0.4_a:0.6_b:0.0_2_k_10\r\n",
      "S:resnet8x4_T:resnet32x4_svhn_kd_r:0.4_a:0.6_b:0.0_3_k_10\r\n",
      "S:resnet8x4_T:resnet32x4_svhn_kd_r:0.4_a:0.6_b:0.0_4_k_10\r\n",
      "S:resnet8x4_T:resnet32x4_svhn_kd_r:0.4_a:0.6_b:0.0_5_k_10\r\n",
      "S:resnet8x4_T:resnet32x4_svhn_kd_r:0.4_a:0.6_b:0.0_6_k_10\r\n",
      "S:resnet8x4_T:resnet32x4_svhn_kd_r:0.4_a:0.6_b:0.0_7_k_10\r\n",
      "S:resnet8x4_T:resnet32x4_svhn_kd_r:0.4_a:0.6_b:0.0_8_k_10\r\n",
      "S:resnet8x4_T:resnet32x4_svhn_kd_r:0.4_a:0.6_b:0.0_9_k_10\r\n",
      "S:resnet8x4_T:resnet32x4_svhn_kd_r:0.4_a:0.6_b:0.0__k_10\r\n"
     ]
    }
   ],
   "source": [
    "!ls save/student_datafree_model/"
   ]
  },
  {
   "cell_type": "code",
   "execution_count": 3,
   "id": "22d3d36a",
   "metadata": {},
   "outputs": [
    {
     "name": "stdout",
     "output_type": "stream",
     "text": [
      "T:resnet32x4, S:resnet8x4, logo:k_10,  acc:93.28749084472656 +- 0.17234420576255796\n"
     ]
    }
   ],
   "source": [
    "logos = ['k_10']\n",
    "for logo in logos:\n",
    "    scores = []\n",
    "    for i in range(10):\n",
    "        pths = torch.load('save/student_datafree_model/S:resnet8x4_T:resnet32x4_svhn_kd_r:0.4_a:0.6_b:0.0_{}_{}/resnet8x4_best.pth'.format(i, logo))\n",
    "        acc = pths['best_acc']\n",
    "        scores.append(acc.item())\n",
    "    scores = np.asarray(scores)\n",
    "    print('T:resnet32x4, S:resnet8x4, logo:{},  acc:{} +- {}'.format(logo, np.mean(scores), np.var(scores) ** 0.5))"
   ]
  },
  {
   "cell_type": "code",
   "execution_count": 5,
   "id": "52b9905b",
   "metadata": {},
   "outputs": [
    {
     "name": "stdout",
     "output_type": "stream",
     "text": [
      "T:resnet32x4, S:resnet8x4, logo:k_1,  acc:49.325 +- 0.2868534212003394\n",
      "T:resnet32x4, S:resnet8x4, logo:k_3,  acc:49.1929988861084 +- 0.3580241197970265\n",
      "T:resnet32x4, S:resnet8x4, logo:k_5,  acc:48.957998275756836 +- 0.15111566320295236\n",
      "T:resnet32x4, S:resnet8x4, logo:k_5_False,  acc:49.39099884033203 +- 0.21426348400248996\n",
      "T:resnet32x4, S:resnet8x4, logo:k_5_random,  acc:48.90799903869629 +- 0.33053914005596197\n",
      "T:resnet32x4, S:resnet8x4, logo:k_5_st_0,  acc:47.38199882507324 +- 0.41602408963061016\n",
      "T:resnet32x4, S:resnet8x4, logo:k_5_st_5,  acc:49.48299903869629 +- 0.3065956130903663\n",
      "T:resnet32x4, S:resnet8x4, logo:k_7,  acc:48.617998886108396 +- 0.4188271381278761\n",
      "T:resnet32x4, S:resnet8x4, logo:k_10_xy,  acc:49.16699867248535 +- 0.35310166617102284\n",
      "T:resnet32x4, S:resnet8x4, logo:df_10000,  acc:48.5909984588623 +- 0.17466803868298666\n"
     ]
    }
   ],
   "source": [
    "logos = ['k_1', 'k_3', 'k_5', 'k_5_False', 'k_5_random', 'k_5_st_0', 'k_5_st_5', 'k_7', 'k_10_xy', 'df_10000']\n",
    "for logo in logos:\n",
    "    scores = []\n",
    "    for i in range(10):\n",
    "        pths = torch.load('save/student_datafree_model/S:resnet8x4_T:resnet32x4_cifar100_kd_r:0.4_a:0.6_b:0.0_{}_{}/resnet8x4_best.pth'.format(i, logo))\n",
    "        acc = pths['best_acc']\n",
    "        scores.append(acc.item())\n",
    "    scores = np.asarray(scores)\n",
    "    print('T:resnet32x4, S:resnet8x4, logo:{},  acc:{} +- {}'.format(logo, np.mean(scores), np.var(scores) ** 0.5))"
   ]
  },
  {
   "cell_type": "code",
   "execution_count": null,
   "id": "f399bb55",
   "metadata": {},
   "outputs": [],
   "source": []
  }
 ],
 "metadata": {
  "kernelspec": {
   "display_name": "Python 3",
   "language": "python",
   "name": "python3"
  },
  "language_info": {
   "codemirror_mode": {
    "name": "ipython",
    "version": 3
   },
   "file_extension": ".py",
   "mimetype": "text/x-python",
   "name": "python",
   "nbconvert_exporter": "python",
   "pygments_lexer": "ipython3",
   "version": "3.8.8"
  }
 },
 "nbformat": 4,
 "nbformat_minor": 5
}
